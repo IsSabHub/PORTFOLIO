{
 "cells": [
  {
   "cell_type": "code",
   "execution_count": 2,
   "metadata": {},
   "outputs": [],
   "source": [
    "import pandas as pd\n",
    "import numpy as np\n",
    "import matplotlib.pyplot as plt\n",
    "import seaborn as sns\n",
    "import warnings\n",
    "warnings.filterwarnings('ignore')"
   ]
  },
  {
   "cell_type": "code",
   "execution_count": 3,
   "metadata": {},
   "outputs": [],
   "source": [
    "react = pd.read_csv('Reactions.csv')\n",
    "react_type = pd.read_csv('ReactionTypes.csv')\n",
    "content = pd.read_csv('Content.csv')"
   ]
  },
  {
   "cell_type": "code",
   "execution_count": 4,
   "metadata": {},
   "outputs": [
    {
     "name": "stdout",
     "output_type": "stream",
     "text": [
      "<class 'pandas.core.frame.DataFrame'>\n",
      "RangeIndex: 25553 entries, 0 to 25552\n",
      "Data columns (total 5 columns):\n",
      " #   Column      Non-Null Count  Dtype \n",
      "---  ------      --------------  ----- \n",
      " 0   Unnamed: 0  25553 non-null  int64 \n",
      " 1   Content ID  25553 non-null  object\n",
      " 2   User ID     22534 non-null  object\n",
      " 3   Type        24573 non-null  object\n",
      " 4   Datetime    25553 non-null  object\n",
      "dtypes: int64(1), object(4)\n",
      "memory usage: 998.3+ KB\n",
      "(25553, 5)\n"
     ]
    }
   ],
   "source": [
    "react.info()\n",
    "print(react.shape)"
   ]
  },
  {
   "cell_type": "code",
   "execution_count": 5,
   "metadata": {},
   "outputs": [
    {
     "name": "stdout",
     "output_type": "stream",
     "text": [
      "<class 'pandas.core.frame.DataFrame'>\n",
      "RangeIndex: 16 entries, 0 to 15\n",
      "Data columns (total 4 columns):\n",
      " #   Column      Non-Null Count  Dtype \n",
      "---  ------      --------------  ----- \n",
      " 0   Unnamed: 0  16 non-null     int64 \n",
      " 1   Type        16 non-null     object\n",
      " 2   Sentiment   16 non-null     object\n",
      " 3   Score       16 non-null     int64 \n",
      "dtypes: int64(2), object(2)\n",
      "memory usage: 640.0+ bytes\n",
      "(16, 4)\n"
     ]
    }
   ],
   "source": [
    "react_type.info()\n",
    "print(react_type.shape)"
   ]
  },
  {
   "cell_type": "code",
   "execution_count": 6,
   "metadata": {},
   "outputs": [
    {
     "name": "stdout",
     "output_type": "stream",
     "text": [
      "<class 'pandas.core.frame.DataFrame'>\n",
      "RangeIndex: 1000 entries, 0 to 999\n",
      "Data columns (total 6 columns):\n",
      " #   Column      Non-Null Count  Dtype \n",
      "---  ------      --------------  ----- \n",
      " 0   Unnamed: 0  1000 non-null   int64 \n",
      " 1   Content ID  1000 non-null   object\n",
      " 2   User ID     1000 non-null   object\n",
      " 3   Type        1000 non-null   object\n",
      " 4   Category    1000 non-null   object\n",
      " 5   URL         801 non-null    object\n",
      "dtypes: int64(1), object(5)\n",
      "memory usage: 47.0+ KB\n",
      "(1000, 6)\n"
     ]
    }
   ],
   "source": [
    "content.info()\n",
    "print(content.shape)"
   ]
  },
  {
   "cell_type": "code",
   "execution_count": 7,
   "metadata": {},
   "outputs": [
    {
     "data": {
      "text/plain": [
       "500"
      ]
     },
     "execution_count": 7,
     "metadata": {},
     "output_type": "execute_result"
    }
   ],
   "source": [
    "react['User ID'].nunique()"
   ]
  },
  {
   "cell_type": "code",
   "execution_count": 8,
   "metadata": {},
   "outputs": [
    {
     "data": {
      "text/plain": [
       "446"
      ]
     },
     "execution_count": 8,
     "metadata": {},
     "output_type": "execute_result"
    }
   ],
   "source": [
    "content['User ID'].nunique()"
   ]
  },
  {
   "cell_type": "code",
   "execution_count": 9,
   "metadata": {},
   "outputs": [
    {
     "data": {
      "text/plain": [
       "Unnamed: 0    0\n",
       "Type          0\n",
       "Sentiment     0\n",
       "Score         0\n",
       "dtype: int64"
      ]
     },
     "execution_count": 9,
     "metadata": {},
     "output_type": "execute_result"
    }
   ],
   "source": [
    "react_type.isnull().sum()"
   ]
  },
  {
   "cell_type": "code",
   "execution_count": 10,
   "metadata": {},
   "outputs": [
    {
     "data": {
      "text/plain": [
       "Unnamed: 0       0\n",
       "Content ID       0\n",
       "User ID       3019\n",
       "Type           980\n",
       "Datetime         0\n",
       "dtype: int64"
      ]
     },
     "execution_count": 10,
     "metadata": {},
     "output_type": "execute_result"
    }
   ],
   "source": [
    "react.isnull().sum()"
   ]
  },
  {
   "cell_type": "code",
   "execution_count": 11,
   "metadata": {},
   "outputs": [
    {
     "data": {
      "text/plain": [
       "Unnamed: 0      0\n",
       "Content ID      0\n",
       "User ID         0\n",
       "Type            0\n",
       "Category        0\n",
       "URL           199\n",
       "dtype: int64"
      ]
     },
     "execution_count": 11,
     "metadata": {},
     "output_type": "execute_result"
    }
   ],
   "source": [
    "content.isnull().sum()"
   ]
  },
  {
   "cell_type": "code",
   "execution_count": 12,
   "metadata": {},
   "outputs": [
    {
     "name": "stdout",
     "output_type": "stream",
     "text": [
      "Unnamed: 0    0\n",
      "Content ID    0\n",
      "User ID       0\n",
      "Type          0\n",
      "Datetime      0\n",
      "dtype: int64\n",
      "shape (22534, 5)\n"
     ]
    }
   ],
   "source": [
    "# drop the rows with null values\n",
    "react.dropna(inplace=True)\n",
    "print(react.isnull().sum())\n",
    "print(\"shape\",react.shape)"
   ]
  },
  {
   "cell_type": "code",
   "execution_count": 13,
   "metadata": {},
   "outputs": [
    {
     "name": "stdout",
     "output_type": "stream",
     "text": [
      "Unnamed: 0    0\n",
      "Content ID    0\n",
      "User ID       0\n",
      "Type          0\n",
      "Category      0\n",
      "URL           0\n",
      "dtype: int64\n",
      "shape (801, 6)\n"
     ]
    }
   ],
   "source": [
    "# drop the rows with null values\n",
    "content.dropna(inplace=True)\n",
    "print(content.isnull().sum())\n",
    "print(\"shape\",content.shape)"
   ]
  },
  {
   "cell_type": "code",
   "execution_count": 14,
   "metadata": {},
   "outputs": [
    {
     "name": "stdout",
     "output_type": "stream",
     "text": [
      "Unnamed: 0    0\n",
      "Type          0\n",
      "Sentiment     0\n",
      "Score         0\n",
      "dtype: int64\n",
      "shape (16, 4)\n"
     ]
    }
   ],
   "source": [
    "# drop the rows with null values\n",
    "react_type.dropna(inplace=True)\n",
    "print(react_type.isnull().sum())\n",
    "print(\"shape\",react_type.shape)"
   ]
  },
  {
   "cell_type": "code",
   "execution_count": 15,
   "metadata": {},
   "outputs": [],
   "source": [
    "react.drop(['Unnamed: 0'],axis=1,inplace=True)"
   ]
  },
  {
   "cell_type": "code",
   "execution_count": 16,
   "metadata": {},
   "outputs": [],
   "source": [
    "react['Datetime'] = pd.to_datetime(react['Datetime'])"
   ]
  },
  {
   "cell_type": "code",
   "execution_count": 17,
   "metadata": {},
   "outputs": [
    {
     "data": {
      "text/html": [
       "<div>\n",
       "<style scoped>\n",
       "    .dataframe tbody tr th:only-of-type {\n",
       "        vertical-align: middle;\n",
       "    }\n",
       "\n",
       "    .dataframe tbody tr th {\n",
       "        vertical-align: top;\n",
       "    }\n",
       "\n",
       "    .dataframe thead th {\n",
       "        text-align: right;\n",
       "    }\n",
       "</style>\n",
       "<table border=\"1\" class=\"dataframe\">\n",
       "  <thead>\n",
       "    <tr style=\"text-align: right;\">\n",
       "      <th></th>\n",
       "      <th>Content ID</th>\n",
       "      <th>User ID</th>\n",
       "      <th>Type</th>\n",
       "      <th>Datetime</th>\n",
       "    </tr>\n",
       "  </thead>\n",
       "  <tbody>\n",
       "    <tr>\n",
       "      <th>1</th>\n",
       "      <td>97522e57-d9ab-4bd6-97bf-c24d952602d2</td>\n",
       "      <td>5d454588-283d-459d-915d-c48a2cb4c27f</td>\n",
       "      <td>disgust</td>\n",
       "      <td>2020-11-07 09:43:50</td>\n",
       "    </tr>\n",
       "    <tr>\n",
       "      <th>2</th>\n",
       "      <td>97522e57-d9ab-4bd6-97bf-c24d952602d2</td>\n",
       "      <td>92b87fa5-f271-43e0-af66-84fac21052e6</td>\n",
       "      <td>dislike</td>\n",
       "      <td>2021-06-17 12:22:51</td>\n",
       "    </tr>\n",
       "    <tr>\n",
       "      <th>3</th>\n",
       "      <td>97522e57-d9ab-4bd6-97bf-c24d952602d2</td>\n",
       "      <td>163daa38-8b77-48c9-9af6-37a6c1447ac2</td>\n",
       "      <td>scared</td>\n",
       "      <td>2021-04-18 05:13:58</td>\n",
       "    </tr>\n",
       "    <tr>\n",
       "      <th>4</th>\n",
       "      <td>97522e57-d9ab-4bd6-97bf-c24d952602d2</td>\n",
       "      <td>34e8add9-0206-47fd-a501-037b994650a2</td>\n",
       "      <td>disgust</td>\n",
       "      <td>2021-01-06 19:13:01</td>\n",
       "    </tr>\n",
       "    <tr>\n",
       "      <th>5</th>\n",
       "      <td>97522e57-d9ab-4bd6-97bf-c24d952602d2</td>\n",
       "      <td>9b6d35f9-5e15-4cd0-a8d7-b1f3340e02c4</td>\n",
       "      <td>interested</td>\n",
       "      <td>2020-08-23 12:25:58</td>\n",
       "    </tr>\n",
       "    <tr>\n",
       "      <th>...</th>\n",
       "      <td>...</td>\n",
       "      <td>...</td>\n",
       "      <td>...</td>\n",
       "      <td>...</td>\n",
       "    </tr>\n",
       "    <tr>\n",
       "      <th>25547</th>\n",
       "      <td>75d6b589-7fae-4a6d-b0d0-752845150e56</td>\n",
       "      <td>b6d04982-1509-41ab-a700-b390d6cb4d02</td>\n",
       "      <td>worried</td>\n",
       "      <td>2020-10-31 04:50:14</td>\n",
       "    </tr>\n",
       "    <tr>\n",
       "      <th>25548</th>\n",
       "      <td>75d6b589-7fae-4a6d-b0d0-752845150e56</td>\n",
       "      <td>80c9ce48-46f9-4f5e-b3ca-3b698fc2e949</td>\n",
       "      <td>dislike</td>\n",
       "      <td>2020-06-27 09:46:48</td>\n",
       "    </tr>\n",
       "    <tr>\n",
       "      <th>25549</th>\n",
       "      <td>75d6b589-7fae-4a6d-b0d0-752845150e56</td>\n",
       "      <td>2bd9c167-e06c-47c1-a978-3403d6724606</td>\n",
       "      <td>intrigued</td>\n",
       "      <td>2021-02-16 17:17:02</td>\n",
       "    </tr>\n",
       "    <tr>\n",
       "      <th>25551</th>\n",
       "      <td>75d6b589-7fae-4a6d-b0d0-752845150e56</td>\n",
       "      <td>5ffd8b51-164e-47e2-885e-8b8c46eb63ed</td>\n",
       "      <td>worried</td>\n",
       "      <td>2020-11-04 20:08:31</td>\n",
       "    </tr>\n",
       "    <tr>\n",
       "      <th>25552</th>\n",
       "      <td>75d6b589-7fae-4a6d-b0d0-752845150e56</td>\n",
       "      <td>4edc3d1a-a7d9-4db6-89c3-f784d9954172</td>\n",
       "      <td>cherish</td>\n",
       "      <td>2021-01-04 04:55:11</td>\n",
       "    </tr>\n",
       "  </tbody>\n",
       "</table>\n",
       "<p>22534 rows × 4 columns</p>\n",
       "</div>"
      ],
      "text/plain": [
       "                                 Content ID  \\\n",
       "1      97522e57-d9ab-4bd6-97bf-c24d952602d2   \n",
       "2      97522e57-d9ab-4bd6-97bf-c24d952602d2   \n",
       "3      97522e57-d9ab-4bd6-97bf-c24d952602d2   \n",
       "4      97522e57-d9ab-4bd6-97bf-c24d952602d2   \n",
       "5      97522e57-d9ab-4bd6-97bf-c24d952602d2   \n",
       "...                                     ...   \n",
       "25547  75d6b589-7fae-4a6d-b0d0-752845150e56   \n",
       "25548  75d6b589-7fae-4a6d-b0d0-752845150e56   \n",
       "25549  75d6b589-7fae-4a6d-b0d0-752845150e56   \n",
       "25551  75d6b589-7fae-4a6d-b0d0-752845150e56   \n",
       "25552  75d6b589-7fae-4a6d-b0d0-752845150e56   \n",
       "\n",
       "                                    User ID        Type            Datetime  \n",
       "1      5d454588-283d-459d-915d-c48a2cb4c27f     disgust 2020-11-07 09:43:50  \n",
       "2      92b87fa5-f271-43e0-af66-84fac21052e6     dislike 2021-06-17 12:22:51  \n",
       "3      163daa38-8b77-48c9-9af6-37a6c1447ac2      scared 2021-04-18 05:13:58  \n",
       "4      34e8add9-0206-47fd-a501-037b994650a2     disgust 2021-01-06 19:13:01  \n",
       "5      9b6d35f9-5e15-4cd0-a8d7-b1f3340e02c4  interested 2020-08-23 12:25:58  \n",
       "...                                     ...         ...                 ...  \n",
       "25547  b6d04982-1509-41ab-a700-b390d6cb4d02     worried 2020-10-31 04:50:14  \n",
       "25548  80c9ce48-46f9-4f5e-b3ca-3b698fc2e949     dislike 2020-06-27 09:46:48  \n",
       "25549  2bd9c167-e06c-47c1-a978-3403d6724606   intrigued 2021-02-16 17:17:02  \n",
       "25551  5ffd8b51-164e-47e2-885e-8b8c46eb63ed     worried 2020-11-04 20:08:31  \n",
       "25552  4edc3d1a-a7d9-4db6-89c3-f784d9954172     cherish 2021-01-04 04:55:11  \n",
       "\n",
       "[22534 rows x 4 columns]"
      ]
     },
     "execution_count": 17,
     "metadata": {},
     "output_type": "execute_result"
    }
   ],
   "source": [
    "react"
   ]
  },
  {
   "cell_type": "code",
   "execution_count": 18,
   "metadata": {},
   "outputs": [
    {
     "data": {
      "text/html": [
       "<div>\n",
       "<style scoped>\n",
       "    .dataframe tbody tr th:only-of-type {\n",
       "        vertical-align: middle;\n",
       "    }\n",
       "\n",
       "    .dataframe tbody tr th {\n",
       "        vertical-align: top;\n",
       "    }\n",
       "\n",
       "    .dataframe thead th {\n",
       "        text-align: right;\n",
       "    }\n",
       "</style>\n",
       "<table border=\"1\" class=\"dataframe\">\n",
       "  <thead>\n",
       "    <tr style=\"text-align: right;\">\n",
       "      <th></th>\n",
       "      <th>Type</th>\n",
       "      <th>Sentiment</th>\n",
       "      <th>Score</th>\n",
       "    </tr>\n",
       "  </thead>\n",
       "  <tbody>\n",
       "    <tr>\n",
       "      <th>0</th>\n",
       "      <td>heart</td>\n",
       "      <td>positive</td>\n",
       "      <td>60</td>\n",
       "    </tr>\n",
       "    <tr>\n",
       "      <th>1</th>\n",
       "      <td>want</td>\n",
       "      <td>positive</td>\n",
       "      <td>70</td>\n",
       "    </tr>\n",
       "    <tr>\n",
       "      <th>2</th>\n",
       "      <td>disgust</td>\n",
       "      <td>negative</td>\n",
       "      <td>0</td>\n",
       "    </tr>\n",
       "    <tr>\n",
       "      <th>3</th>\n",
       "      <td>hate</td>\n",
       "      <td>negative</td>\n",
       "      <td>5</td>\n",
       "    </tr>\n",
       "    <tr>\n",
       "      <th>4</th>\n",
       "      <td>interested</td>\n",
       "      <td>positive</td>\n",
       "      <td>30</td>\n",
       "    </tr>\n",
       "    <tr>\n",
       "      <th>5</th>\n",
       "      <td>indifferent</td>\n",
       "      <td>neutral</td>\n",
       "      <td>20</td>\n",
       "    </tr>\n",
       "    <tr>\n",
       "      <th>6</th>\n",
       "      <td>love</td>\n",
       "      <td>positive</td>\n",
       "      <td>65</td>\n",
       "    </tr>\n",
       "    <tr>\n",
       "      <th>7</th>\n",
       "      <td>super love</td>\n",
       "      <td>positive</td>\n",
       "      <td>75</td>\n",
       "    </tr>\n",
       "    <tr>\n",
       "      <th>8</th>\n",
       "      <td>cherish</td>\n",
       "      <td>positive</td>\n",
       "      <td>70</td>\n",
       "    </tr>\n",
       "    <tr>\n",
       "      <th>9</th>\n",
       "      <td>adore</td>\n",
       "      <td>positive</td>\n",
       "      <td>72</td>\n",
       "    </tr>\n",
       "    <tr>\n",
       "      <th>10</th>\n",
       "      <td>like</td>\n",
       "      <td>positive</td>\n",
       "      <td>50</td>\n",
       "    </tr>\n",
       "    <tr>\n",
       "      <th>11</th>\n",
       "      <td>dislike</td>\n",
       "      <td>negative</td>\n",
       "      <td>10</td>\n",
       "    </tr>\n",
       "    <tr>\n",
       "      <th>12</th>\n",
       "      <td>intrigued</td>\n",
       "      <td>positive</td>\n",
       "      <td>45</td>\n",
       "    </tr>\n",
       "    <tr>\n",
       "      <th>13</th>\n",
       "      <td>peeking</td>\n",
       "      <td>neutral</td>\n",
       "      <td>35</td>\n",
       "    </tr>\n",
       "    <tr>\n",
       "      <th>14</th>\n",
       "      <td>scared</td>\n",
       "      <td>negative</td>\n",
       "      <td>15</td>\n",
       "    </tr>\n",
       "    <tr>\n",
       "      <th>15</th>\n",
       "      <td>worried</td>\n",
       "      <td>negative</td>\n",
       "      <td>12</td>\n",
       "    </tr>\n",
       "  </tbody>\n",
       "</table>\n",
       "</div>"
      ],
      "text/plain": [
       "           Type Sentiment  Score\n",
       "0         heart  positive     60\n",
       "1          want  positive     70\n",
       "2       disgust  negative      0\n",
       "3          hate  negative      5\n",
       "4    interested  positive     30\n",
       "5   indifferent   neutral     20\n",
       "6          love  positive     65\n",
       "7    super love  positive     75\n",
       "8       cherish  positive     70\n",
       "9         adore  positive     72\n",
       "10         like  positive     50\n",
       "11      dislike  negative     10\n",
       "12    intrigued  positive     45\n",
       "13      peeking   neutral     35\n",
       "14       scared  negative     15\n",
       "15      worried  negative     12"
      ]
     },
     "execution_count": 18,
     "metadata": {},
     "output_type": "execute_result"
    }
   ],
   "source": [
    "react_type.drop(['Unnamed: 0'],axis=1,inplace=True)\n",
    "react_type"
   ]
  },
  {
   "cell_type": "code",
   "execution_count": 19,
   "metadata": {},
   "outputs": [
    {
     "data": {
      "text/html": [
       "<div>\n",
       "<style scoped>\n",
       "    .dataframe tbody tr th:only-of-type {\n",
       "        vertical-align: middle;\n",
       "    }\n",
       "\n",
       "    .dataframe tbody tr th {\n",
       "        vertical-align: top;\n",
       "    }\n",
       "\n",
       "    .dataframe thead th {\n",
       "        text-align: right;\n",
       "    }\n",
       "</style>\n",
       "<table border=\"1\" class=\"dataframe\">\n",
       "  <thead>\n",
       "    <tr style=\"text-align: right;\">\n",
       "      <th></th>\n",
       "      <th>Content ID</th>\n",
       "      <th>User ID</th>\n",
       "      <th>Type</th>\n",
       "      <th>Category</th>\n",
       "      <th>URL</th>\n",
       "    </tr>\n",
       "  </thead>\n",
       "  <tbody>\n",
       "    <tr>\n",
       "      <th>0</th>\n",
       "      <td>97522e57-d9ab-4bd6-97bf-c24d952602d2</td>\n",
       "      <td>8d3cd87d-8a31-4935-9a4f-b319bfe05f31</td>\n",
       "      <td>photo</td>\n",
       "      <td>Studying</td>\n",
       "      <td>https://socialbuzz.cdn.com/content/storage/975...</td>\n",
       "    </tr>\n",
       "    <tr>\n",
       "      <th>1</th>\n",
       "      <td>9f737e0a-3cdd-4d29-9d24-753f4e3be810</td>\n",
       "      <td>beb1f34e-7870-46d6-9fc7-2e12eb83ce43</td>\n",
       "      <td>photo</td>\n",
       "      <td>healthy eating</td>\n",
       "      <td>https://socialbuzz.cdn.com/content/storage/9f7...</td>\n",
       "    </tr>\n",
       "    <tr>\n",
       "      <th>2</th>\n",
       "      <td>230c4e4d-70c3-461d-b42c-ec09396efb3f</td>\n",
       "      <td>a5c65404-5894-4b87-82f2-d787cbee86b4</td>\n",
       "      <td>photo</td>\n",
       "      <td>healthy eating</td>\n",
       "      <td>https://socialbuzz.cdn.com/content/storage/230...</td>\n",
       "    </tr>\n",
       "    <tr>\n",
       "      <th>3</th>\n",
       "      <td>356fff80-da4d-4785-9f43-bc1261031dc6</td>\n",
       "      <td>9fb4ce88-fac1-406c-8544-1a899cee7aaf</td>\n",
       "      <td>photo</td>\n",
       "      <td>technology</td>\n",
       "      <td>https://socialbuzz.cdn.com/content/storage/356...</td>\n",
       "    </tr>\n",
       "    <tr>\n",
       "      <th>4</th>\n",
       "      <td>01ab84dd-6364-4236-abbb-3f237db77180</td>\n",
       "      <td>e206e31b-5f85-4964-b6ea-d7ee5324def1</td>\n",
       "      <td>video</td>\n",
       "      <td>food</td>\n",
       "      <td>https://socialbuzz.cdn.com/content/storage/01a...</td>\n",
       "    </tr>\n",
       "    <tr>\n",
       "      <th>...</th>\n",
       "      <td>...</td>\n",
       "      <td>...</td>\n",
       "      <td>...</td>\n",
       "      <td>...</td>\n",
       "      <td>...</td>\n",
       "    </tr>\n",
       "    <tr>\n",
       "      <th>994</th>\n",
       "      <td>c54b49c4-b1f2-4641-8595-1cbd19937845</td>\n",
       "      <td>2ab641a8-6ad4-4d1a-8511-d87ff5346773</td>\n",
       "      <td>photo</td>\n",
       "      <td>science</td>\n",
       "      <td>https://socialbuzz.cdn.com/content/storage/c54...</td>\n",
       "    </tr>\n",
       "    <tr>\n",
       "      <th>996</th>\n",
       "      <td>7a79f4e4-3b7d-44dc-bdef-bc990740252c</td>\n",
       "      <td>4fe420fa-a193-4408-bd5d-62a020233609</td>\n",
       "      <td>GIF</td>\n",
       "      <td>technology</td>\n",
       "      <td>https://socialbuzz.cdn.com/content/storage/7a7...</td>\n",
       "    </tr>\n",
       "    <tr>\n",
       "      <th>997</th>\n",
       "      <td>435007a5-6261-4d8b-b0a4-55fdc189754b</td>\n",
       "      <td>35d6a1f3-e358-4d4b-8074-05f3b7f35c2a</td>\n",
       "      <td>audio</td>\n",
       "      <td>veganism</td>\n",
       "      <td>https://socialbuzz.cdn.com/content/storage/435...</td>\n",
       "    </tr>\n",
       "    <tr>\n",
       "      <th>998</th>\n",
       "      <td>4e4c9690-c013-4ee7-9e66-943d8cbd27b7</td>\n",
       "      <td>b9bcd994-f000-4f6b-87fc-caae08acfaa1</td>\n",
       "      <td>GIF</td>\n",
       "      <td>culture</td>\n",
       "      <td>https://socialbuzz.cdn.com/content/storage/4e4...</td>\n",
       "    </tr>\n",
       "    <tr>\n",
       "      <th>999</th>\n",
       "      <td>75d6b589-7fae-4a6d-b0d0-752845150e56</td>\n",
       "      <td>b8c653b5-0118-4d7e-9bde-07c2de90f0ff</td>\n",
       "      <td>audio</td>\n",
       "      <td>technology</td>\n",
       "      <td>https://socialbuzz.cdn.com/content/storage/75d...</td>\n",
       "    </tr>\n",
       "  </tbody>\n",
       "</table>\n",
       "<p>801 rows × 5 columns</p>\n",
       "</div>"
      ],
      "text/plain": [
       "                               Content ID  \\\n",
       "0    97522e57-d9ab-4bd6-97bf-c24d952602d2   \n",
       "1    9f737e0a-3cdd-4d29-9d24-753f4e3be810   \n",
       "2    230c4e4d-70c3-461d-b42c-ec09396efb3f   \n",
       "3    356fff80-da4d-4785-9f43-bc1261031dc6   \n",
       "4    01ab84dd-6364-4236-abbb-3f237db77180   \n",
       "..                                    ...   \n",
       "994  c54b49c4-b1f2-4641-8595-1cbd19937845   \n",
       "996  7a79f4e4-3b7d-44dc-bdef-bc990740252c   \n",
       "997  435007a5-6261-4d8b-b0a4-55fdc189754b   \n",
       "998  4e4c9690-c013-4ee7-9e66-943d8cbd27b7   \n",
       "999  75d6b589-7fae-4a6d-b0d0-752845150e56   \n",
       "\n",
       "                                  User ID   Type        Category  \\\n",
       "0    8d3cd87d-8a31-4935-9a4f-b319bfe05f31  photo        Studying   \n",
       "1    beb1f34e-7870-46d6-9fc7-2e12eb83ce43  photo  healthy eating   \n",
       "2    a5c65404-5894-4b87-82f2-d787cbee86b4  photo  healthy eating   \n",
       "3    9fb4ce88-fac1-406c-8544-1a899cee7aaf  photo      technology   \n",
       "4    e206e31b-5f85-4964-b6ea-d7ee5324def1  video            food   \n",
       "..                                    ...    ...             ...   \n",
       "994  2ab641a8-6ad4-4d1a-8511-d87ff5346773  photo         science   \n",
       "996  4fe420fa-a193-4408-bd5d-62a020233609    GIF      technology   \n",
       "997  35d6a1f3-e358-4d4b-8074-05f3b7f35c2a  audio        veganism   \n",
       "998  b9bcd994-f000-4f6b-87fc-caae08acfaa1    GIF         culture   \n",
       "999  b8c653b5-0118-4d7e-9bde-07c2de90f0ff  audio      technology   \n",
       "\n",
       "                                                   URL  \n",
       "0    https://socialbuzz.cdn.com/content/storage/975...  \n",
       "1    https://socialbuzz.cdn.com/content/storage/9f7...  \n",
       "2    https://socialbuzz.cdn.com/content/storage/230...  \n",
       "3    https://socialbuzz.cdn.com/content/storage/356...  \n",
       "4    https://socialbuzz.cdn.com/content/storage/01a...  \n",
       "..                                                 ...  \n",
       "994  https://socialbuzz.cdn.com/content/storage/c54...  \n",
       "996  https://socialbuzz.cdn.com/content/storage/7a7...  \n",
       "997  https://socialbuzz.cdn.com/content/storage/435...  \n",
       "998  https://socialbuzz.cdn.com/content/storage/4e4...  \n",
       "999  https://socialbuzz.cdn.com/content/storage/75d...  \n",
       "\n",
       "[801 rows x 5 columns]"
      ]
     },
     "execution_count": 19,
     "metadata": {},
     "output_type": "execute_result"
    }
   ],
   "source": [
    "content.drop(['Unnamed: 0'],axis=1,inplace=True)\n",
    "content"
   ]
  },
  {
   "attachments": {},
   "cell_type": "markdown",
   "metadata": {},
   "source": [
    "## Data Modeling"
   ]
  },
  {
   "cell_type": "code",
   "execution_count": 20,
   "metadata": {},
   "outputs": [
    {
     "data": {
      "text/html": [
       "<div>\n",
       "<style scoped>\n",
       "    .dataframe tbody tr th:only-of-type {\n",
       "        vertical-align: middle;\n",
       "    }\n",
       "\n",
       "    .dataframe tbody tr th {\n",
       "        vertical-align: top;\n",
       "    }\n",
       "\n",
       "    .dataframe thead th {\n",
       "        text-align: right;\n",
       "    }\n",
       "</style>\n",
       "<table border=\"1\" class=\"dataframe\">\n",
       "  <thead>\n",
       "    <tr style=\"text-align: right;\">\n",
       "      <th></th>\n",
       "      <th>Content ID</th>\n",
       "      <th>User ID</th>\n",
       "      <th>Type</th>\n",
       "      <th>Datetime</th>\n",
       "      <th>Sentiment</th>\n",
       "      <th>Score</th>\n",
       "    </tr>\n",
       "  </thead>\n",
       "  <tbody>\n",
       "    <tr>\n",
       "      <th>0</th>\n",
       "      <td>97522e57-d9ab-4bd6-97bf-c24d952602d2</td>\n",
       "      <td>5d454588-283d-459d-915d-c48a2cb4c27f</td>\n",
       "      <td>disgust</td>\n",
       "      <td>2020-11-07 09:43:50</td>\n",
       "      <td>negative</td>\n",
       "      <td>0</td>\n",
       "    </tr>\n",
       "    <tr>\n",
       "      <th>1</th>\n",
       "      <td>97522e57-d9ab-4bd6-97bf-c24d952602d2</td>\n",
       "      <td>92b87fa5-f271-43e0-af66-84fac21052e6</td>\n",
       "      <td>dislike</td>\n",
       "      <td>2021-06-17 12:22:51</td>\n",
       "      <td>negative</td>\n",
       "      <td>10</td>\n",
       "    </tr>\n",
       "    <tr>\n",
       "      <th>2</th>\n",
       "      <td>97522e57-d9ab-4bd6-97bf-c24d952602d2</td>\n",
       "      <td>163daa38-8b77-48c9-9af6-37a6c1447ac2</td>\n",
       "      <td>scared</td>\n",
       "      <td>2021-04-18 05:13:58</td>\n",
       "      <td>negative</td>\n",
       "      <td>15</td>\n",
       "    </tr>\n",
       "    <tr>\n",
       "      <th>3</th>\n",
       "      <td>97522e57-d9ab-4bd6-97bf-c24d952602d2</td>\n",
       "      <td>34e8add9-0206-47fd-a501-037b994650a2</td>\n",
       "      <td>disgust</td>\n",
       "      <td>2021-01-06 19:13:01</td>\n",
       "      <td>negative</td>\n",
       "      <td>0</td>\n",
       "    </tr>\n",
       "    <tr>\n",
       "      <th>4</th>\n",
       "      <td>97522e57-d9ab-4bd6-97bf-c24d952602d2</td>\n",
       "      <td>9b6d35f9-5e15-4cd0-a8d7-b1f3340e02c4</td>\n",
       "      <td>interested</td>\n",
       "      <td>2020-08-23 12:25:58</td>\n",
       "      <td>positive</td>\n",
       "      <td>30</td>\n",
       "    </tr>\n",
       "  </tbody>\n",
       "</table>\n",
       "</div>"
      ],
      "text/plain": [
       "                             Content ID                               User ID  \\\n",
       "0  97522e57-d9ab-4bd6-97bf-c24d952602d2  5d454588-283d-459d-915d-c48a2cb4c27f   \n",
       "1  97522e57-d9ab-4bd6-97bf-c24d952602d2  92b87fa5-f271-43e0-af66-84fac21052e6   \n",
       "2  97522e57-d9ab-4bd6-97bf-c24d952602d2  163daa38-8b77-48c9-9af6-37a6c1447ac2   \n",
       "3  97522e57-d9ab-4bd6-97bf-c24d952602d2  34e8add9-0206-47fd-a501-037b994650a2   \n",
       "4  97522e57-d9ab-4bd6-97bf-c24d952602d2  9b6d35f9-5e15-4cd0-a8d7-b1f3340e02c4   \n",
       "\n",
       "         Type            Datetime Sentiment  Score  \n",
       "0     disgust 2020-11-07 09:43:50  negative      0  \n",
       "1     dislike 2021-06-17 12:22:51  negative     10  \n",
       "2      scared 2021-04-18 05:13:58  negative     15  \n",
       "3     disgust 2021-01-06 19:13:01  negative      0  \n",
       "4  interested 2020-08-23 12:25:58  positive     30  "
      ]
     },
     "execution_count": 20,
     "metadata": {},
     "output_type": "execute_result"
    }
   ],
   "source": [
    "# merge all the three dataframes\n",
    "df = react.merge(react_type, how='left', on='Type')\n",
    "df.head()"
   ]
  },
  {
   "cell_type": "code",
   "execution_count": 21,
   "metadata": {},
   "outputs": [
    {
     "data": {
      "text/html": [
       "<div>\n",
       "<style scoped>\n",
       "    .dataframe tbody tr th:only-of-type {\n",
       "        vertical-align: middle;\n",
       "    }\n",
       "\n",
       "    .dataframe tbody tr th {\n",
       "        vertical-align: top;\n",
       "    }\n",
       "\n",
       "    .dataframe thead th {\n",
       "        text-align: right;\n",
       "    }\n",
       "</style>\n",
       "<table border=\"1\" class=\"dataframe\">\n",
       "  <thead>\n",
       "    <tr style=\"text-align: right;\">\n",
       "      <th></th>\n",
       "      <th>Content ID</th>\n",
       "      <th>User ID</th>\n",
       "      <th>Reaction Type</th>\n",
       "      <th>Datetime</th>\n",
       "      <th>Sentiment</th>\n",
       "      <th>Score</th>\n",
       "    </tr>\n",
       "  </thead>\n",
       "  <tbody>\n",
       "    <tr>\n",
       "      <th>0</th>\n",
       "      <td>97522e57-d9ab-4bd6-97bf-c24d952602d2</td>\n",
       "      <td>5d454588-283d-459d-915d-c48a2cb4c27f</td>\n",
       "      <td>disgust</td>\n",
       "      <td>2020-11-07 09:43:50</td>\n",
       "      <td>negative</td>\n",
       "      <td>0</td>\n",
       "    </tr>\n",
       "    <tr>\n",
       "      <th>1</th>\n",
       "      <td>97522e57-d9ab-4bd6-97bf-c24d952602d2</td>\n",
       "      <td>92b87fa5-f271-43e0-af66-84fac21052e6</td>\n",
       "      <td>dislike</td>\n",
       "      <td>2021-06-17 12:22:51</td>\n",
       "      <td>negative</td>\n",
       "      <td>10</td>\n",
       "    </tr>\n",
       "    <tr>\n",
       "      <th>2</th>\n",
       "      <td>97522e57-d9ab-4bd6-97bf-c24d952602d2</td>\n",
       "      <td>163daa38-8b77-48c9-9af6-37a6c1447ac2</td>\n",
       "      <td>scared</td>\n",
       "      <td>2021-04-18 05:13:58</td>\n",
       "      <td>negative</td>\n",
       "      <td>15</td>\n",
       "    </tr>\n",
       "    <tr>\n",
       "      <th>3</th>\n",
       "      <td>97522e57-d9ab-4bd6-97bf-c24d952602d2</td>\n",
       "      <td>34e8add9-0206-47fd-a501-037b994650a2</td>\n",
       "      <td>disgust</td>\n",
       "      <td>2021-01-06 19:13:01</td>\n",
       "      <td>negative</td>\n",
       "      <td>0</td>\n",
       "    </tr>\n",
       "    <tr>\n",
       "      <th>4</th>\n",
       "      <td>97522e57-d9ab-4bd6-97bf-c24d952602d2</td>\n",
       "      <td>9b6d35f9-5e15-4cd0-a8d7-b1f3340e02c4</td>\n",
       "      <td>interested</td>\n",
       "      <td>2020-08-23 12:25:58</td>\n",
       "      <td>positive</td>\n",
       "      <td>30</td>\n",
       "    </tr>\n",
       "  </tbody>\n",
       "</table>\n",
       "</div>"
      ],
      "text/plain": [
       "                             Content ID                               User ID  \\\n",
       "0  97522e57-d9ab-4bd6-97bf-c24d952602d2  5d454588-283d-459d-915d-c48a2cb4c27f   \n",
       "1  97522e57-d9ab-4bd6-97bf-c24d952602d2  92b87fa5-f271-43e0-af66-84fac21052e6   \n",
       "2  97522e57-d9ab-4bd6-97bf-c24d952602d2  163daa38-8b77-48c9-9af6-37a6c1447ac2   \n",
       "3  97522e57-d9ab-4bd6-97bf-c24d952602d2  34e8add9-0206-47fd-a501-037b994650a2   \n",
       "4  97522e57-d9ab-4bd6-97bf-c24d952602d2  9b6d35f9-5e15-4cd0-a8d7-b1f3340e02c4   \n",
       "\n",
       "  Reaction Type            Datetime Sentiment  Score  \n",
       "0       disgust 2020-11-07 09:43:50  negative      0  \n",
       "1       dislike 2021-06-17 12:22:51  negative     10  \n",
       "2        scared 2021-04-18 05:13:58  negative     15  \n",
       "3       disgust 2021-01-06 19:13:01  negative      0  \n",
       "4    interested 2020-08-23 12:25:58  positive     30  "
      ]
     },
     "execution_count": 21,
     "metadata": {},
     "output_type": "execute_result"
    }
   ],
   "source": [
    "df = df.rename(columns={'Type':'Reaction Type'})\n",
    "df.head()"
   ]
  },
  {
   "cell_type": "code",
   "execution_count": 22,
   "metadata": {},
   "outputs": [
    {
     "data": {
      "text/html": [
       "<div>\n",
       "<style scoped>\n",
       "    .dataframe tbody tr th:only-of-type {\n",
       "        vertical-align: middle;\n",
       "    }\n",
       "\n",
       "    .dataframe tbody tr th {\n",
       "        vertical-align: top;\n",
       "    }\n",
       "\n",
       "    .dataframe thead th {\n",
       "        text-align: right;\n",
       "    }\n",
       "</style>\n",
       "<table border=\"1\" class=\"dataframe\">\n",
       "  <thead>\n",
       "    <tr style=\"text-align: right;\">\n",
       "      <th></th>\n",
       "      <th>Content ID</th>\n",
       "      <th>User ID</th>\n",
       "      <th>Reaction Type</th>\n",
       "      <th>Datetime</th>\n",
       "      <th>Sentiment</th>\n",
       "      <th>Score</th>\n",
       "      <th>Type</th>\n",
       "      <th>Category</th>\n",
       "      <th>URL</th>\n",
       "    </tr>\n",
       "  </thead>\n",
       "  <tbody>\n",
       "    <tr>\n",
       "      <th>0</th>\n",
       "      <td>97522e57-d9ab-4bd6-97bf-c24d952602d2</td>\n",
       "      <td>5d454588-283d-459d-915d-c48a2cb4c27f</td>\n",
       "      <td>disgust</td>\n",
       "      <td>2020-11-07 09:43:50</td>\n",
       "      <td>negative</td>\n",
       "      <td>0</td>\n",
       "      <td>photo</td>\n",
       "      <td>Studying</td>\n",
       "      <td>https://socialbuzz.cdn.com/content/storage/975...</td>\n",
       "    </tr>\n",
       "    <tr>\n",
       "      <th>1</th>\n",
       "      <td>97522e57-d9ab-4bd6-97bf-c24d952602d2</td>\n",
       "      <td>92b87fa5-f271-43e0-af66-84fac21052e6</td>\n",
       "      <td>dislike</td>\n",
       "      <td>2021-06-17 12:22:51</td>\n",
       "      <td>negative</td>\n",
       "      <td>10</td>\n",
       "      <td>photo</td>\n",
       "      <td>Studying</td>\n",
       "      <td>https://socialbuzz.cdn.com/content/storage/975...</td>\n",
       "    </tr>\n",
       "    <tr>\n",
       "      <th>2</th>\n",
       "      <td>97522e57-d9ab-4bd6-97bf-c24d952602d2</td>\n",
       "      <td>163daa38-8b77-48c9-9af6-37a6c1447ac2</td>\n",
       "      <td>scared</td>\n",
       "      <td>2021-04-18 05:13:58</td>\n",
       "      <td>negative</td>\n",
       "      <td>15</td>\n",
       "      <td>photo</td>\n",
       "      <td>Studying</td>\n",
       "      <td>https://socialbuzz.cdn.com/content/storage/975...</td>\n",
       "    </tr>\n",
       "    <tr>\n",
       "      <th>3</th>\n",
       "      <td>97522e57-d9ab-4bd6-97bf-c24d952602d2</td>\n",
       "      <td>34e8add9-0206-47fd-a501-037b994650a2</td>\n",
       "      <td>disgust</td>\n",
       "      <td>2021-01-06 19:13:01</td>\n",
       "      <td>negative</td>\n",
       "      <td>0</td>\n",
       "      <td>photo</td>\n",
       "      <td>Studying</td>\n",
       "      <td>https://socialbuzz.cdn.com/content/storage/975...</td>\n",
       "    </tr>\n",
       "    <tr>\n",
       "      <th>4</th>\n",
       "      <td>97522e57-d9ab-4bd6-97bf-c24d952602d2</td>\n",
       "      <td>9b6d35f9-5e15-4cd0-a8d7-b1f3340e02c4</td>\n",
       "      <td>interested</td>\n",
       "      <td>2020-08-23 12:25:58</td>\n",
       "      <td>positive</td>\n",
       "      <td>30</td>\n",
       "      <td>photo</td>\n",
       "      <td>Studying</td>\n",
       "      <td>https://socialbuzz.cdn.com/content/storage/975...</td>\n",
       "    </tr>\n",
       "  </tbody>\n",
       "</table>\n",
       "</div>"
      ],
      "text/plain": [
       "                             Content ID                               User ID  \\\n",
       "0  97522e57-d9ab-4bd6-97bf-c24d952602d2  5d454588-283d-459d-915d-c48a2cb4c27f   \n",
       "1  97522e57-d9ab-4bd6-97bf-c24d952602d2  92b87fa5-f271-43e0-af66-84fac21052e6   \n",
       "2  97522e57-d9ab-4bd6-97bf-c24d952602d2  163daa38-8b77-48c9-9af6-37a6c1447ac2   \n",
       "3  97522e57-d9ab-4bd6-97bf-c24d952602d2  34e8add9-0206-47fd-a501-037b994650a2   \n",
       "4  97522e57-d9ab-4bd6-97bf-c24d952602d2  9b6d35f9-5e15-4cd0-a8d7-b1f3340e02c4   \n",
       "\n",
       "  Reaction Type            Datetime Sentiment  Score   Type  Category  \\\n",
       "0       disgust 2020-11-07 09:43:50  negative      0  photo  Studying   \n",
       "1       dislike 2021-06-17 12:22:51  negative     10  photo  Studying   \n",
       "2        scared 2021-04-18 05:13:58  negative     15  photo  Studying   \n",
       "3       disgust 2021-01-06 19:13:01  negative      0  photo  Studying   \n",
       "4    interested 2020-08-23 12:25:58  positive     30  photo  Studying   \n",
       "\n",
       "                                                 URL  \n",
       "0  https://socialbuzz.cdn.com/content/storage/975...  \n",
       "1  https://socialbuzz.cdn.com/content/storage/975...  \n",
       "2  https://socialbuzz.cdn.com/content/storage/975...  \n",
       "3  https://socialbuzz.cdn.com/content/storage/975...  \n",
       "4  https://socialbuzz.cdn.com/content/storage/975...  "
      ]
     },
     "execution_count": 22,
     "metadata": {},
     "output_type": "execute_result"
    }
   ],
   "source": [
    "data = df.merge(content.drop('User ID',axis=1), on=['Content ID'], how='left')\n",
    "data.head()"
   ]
  },
  {
   "cell_type": "code",
   "execution_count": 23,
   "metadata": {},
   "outputs": [
    {
     "data": {
      "text/html": [
       "<div>\n",
       "<style scoped>\n",
       "    .dataframe tbody tr th:only-of-type {\n",
       "        vertical-align: middle;\n",
       "    }\n",
       "\n",
       "    .dataframe tbody tr th {\n",
       "        vertical-align: top;\n",
       "    }\n",
       "\n",
       "    .dataframe thead th {\n",
       "        text-align: right;\n",
       "    }\n",
       "</style>\n",
       "<table border=\"1\" class=\"dataframe\">\n",
       "  <thead>\n",
       "    <tr style=\"text-align: right;\">\n",
       "      <th></th>\n",
       "      <th>Content ID</th>\n",
       "      <th>User ID</th>\n",
       "      <th>Reaction Type</th>\n",
       "      <th>Datetime</th>\n",
       "      <th>Sentiment</th>\n",
       "      <th>Score</th>\n",
       "      <th>Type</th>\n",
       "      <th>Category</th>\n",
       "      <th>URL</th>\n",
       "    </tr>\n",
       "  </thead>\n",
       "  <tbody>\n",
       "    <tr>\n",
       "      <th>0</th>\n",
       "      <td>97522e57-d9ab-4bd6-97bf-c24d952602d2</td>\n",
       "      <td>5d454588-283d-459d-915d-c48a2cb4c27f</td>\n",
       "      <td>disgust</td>\n",
       "      <td>2020-11-07 09:43:50</td>\n",
       "      <td>negative</td>\n",
       "      <td>0</td>\n",
       "      <td>photo</td>\n",
       "      <td>Studying</td>\n",
       "      <td>https://socialbuzz.cdn.com/content/storage/975...</td>\n",
       "    </tr>\n",
       "    <tr>\n",
       "      <th>1</th>\n",
       "      <td>97522e57-d9ab-4bd6-97bf-c24d952602d2</td>\n",
       "      <td>92b87fa5-f271-43e0-af66-84fac21052e6</td>\n",
       "      <td>dislike</td>\n",
       "      <td>2021-06-17 12:22:51</td>\n",
       "      <td>negative</td>\n",
       "      <td>10</td>\n",
       "      <td>photo</td>\n",
       "      <td>Studying</td>\n",
       "      <td>https://socialbuzz.cdn.com/content/storage/975...</td>\n",
       "    </tr>\n",
       "    <tr>\n",
       "      <th>2</th>\n",
       "      <td>97522e57-d9ab-4bd6-97bf-c24d952602d2</td>\n",
       "      <td>163daa38-8b77-48c9-9af6-37a6c1447ac2</td>\n",
       "      <td>scared</td>\n",
       "      <td>2021-04-18 05:13:58</td>\n",
       "      <td>negative</td>\n",
       "      <td>15</td>\n",
       "      <td>photo</td>\n",
       "      <td>Studying</td>\n",
       "      <td>https://socialbuzz.cdn.com/content/storage/975...</td>\n",
       "    </tr>\n",
       "    <tr>\n",
       "      <th>3</th>\n",
       "      <td>97522e57-d9ab-4bd6-97bf-c24d952602d2</td>\n",
       "      <td>34e8add9-0206-47fd-a501-037b994650a2</td>\n",
       "      <td>disgust</td>\n",
       "      <td>2021-01-06 19:13:01</td>\n",
       "      <td>negative</td>\n",
       "      <td>0</td>\n",
       "      <td>photo</td>\n",
       "      <td>Studying</td>\n",
       "      <td>https://socialbuzz.cdn.com/content/storage/975...</td>\n",
       "    </tr>\n",
       "    <tr>\n",
       "      <th>4</th>\n",
       "      <td>97522e57-d9ab-4bd6-97bf-c24d952602d2</td>\n",
       "      <td>9b6d35f9-5e15-4cd0-a8d7-b1f3340e02c4</td>\n",
       "      <td>interested</td>\n",
       "      <td>2020-08-23 12:25:58</td>\n",
       "      <td>positive</td>\n",
       "      <td>30</td>\n",
       "      <td>photo</td>\n",
       "      <td>Studying</td>\n",
       "      <td>https://socialbuzz.cdn.com/content/storage/975...</td>\n",
       "    </tr>\n",
       "    <tr>\n",
       "      <th>...</th>\n",
       "      <td>...</td>\n",
       "      <td>...</td>\n",
       "      <td>...</td>\n",
       "      <td>...</td>\n",
       "      <td>...</td>\n",
       "      <td>...</td>\n",
       "      <td>...</td>\n",
       "      <td>...</td>\n",
       "      <td>...</td>\n",
       "    </tr>\n",
       "    <tr>\n",
       "      <th>22529</th>\n",
       "      <td>75d6b589-7fae-4a6d-b0d0-752845150e56</td>\n",
       "      <td>b6d04982-1509-41ab-a700-b390d6cb4d02</td>\n",
       "      <td>worried</td>\n",
       "      <td>2020-10-31 04:50:14</td>\n",
       "      <td>negative</td>\n",
       "      <td>12</td>\n",
       "      <td>audio</td>\n",
       "      <td>technology</td>\n",
       "      <td>https://socialbuzz.cdn.com/content/storage/75d...</td>\n",
       "    </tr>\n",
       "    <tr>\n",
       "      <th>22530</th>\n",
       "      <td>75d6b589-7fae-4a6d-b0d0-752845150e56</td>\n",
       "      <td>80c9ce48-46f9-4f5e-b3ca-3b698fc2e949</td>\n",
       "      <td>dislike</td>\n",
       "      <td>2020-06-27 09:46:48</td>\n",
       "      <td>negative</td>\n",
       "      <td>10</td>\n",
       "      <td>audio</td>\n",
       "      <td>technology</td>\n",
       "      <td>https://socialbuzz.cdn.com/content/storage/75d...</td>\n",
       "    </tr>\n",
       "    <tr>\n",
       "      <th>22531</th>\n",
       "      <td>75d6b589-7fae-4a6d-b0d0-752845150e56</td>\n",
       "      <td>2bd9c167-e06c-47c1-a978-3403d6724606</td>\n",
       "      <td>intrigued</td>\n",
       "      <td>2021-02-16 17:17:02</td>\n",
       "      <td>positive</td>\n",
       "      <td>45</td>\n",
       "      <td>audio</td>\n",
       "      <td>technology</td>\n",
       "      <td>https://socialbuzz.cdn.com/content/storage/75d...</td>\n",
       "    </tr>\n",
       "    <tr>\n",
       "      <th>22532</th>\n",
       "      <td>75d6b589-7fae-4a6d-b0d0-752845150e56</td>\n",
       "      <td>5ffd8b51-164e-47e2-885e-8b8c46eb63ed</td>\n",
       "      <td>worried</td>\n",
       "      <td>2020-11-04 20:08:31</td>\n",
       "      <td>negative</td>\n",
       "      <td>12</td>\n",
       "      <td>audio</td>\n",
       "      <td>technology</td>\n",
       "      <td>https://socialbuzz.cdn.com/content/storage/75d...</td>\n",
       "    </tr>\n",
       "    <tr>\n",
       "      <th>22533</th>\n",
       "      <td>75d6b589-7fae-4a6d-b0d0-752845150e56</td>\n",
       "      <td>4edc3d1a-a7d9-4db6-89c3-f784d9954172</td>\n",
       "      <td>cherish</td>\n",
       "      <td>2021-01-04 04:55:11</td>\n",
       "      <td>positive</td>\n",
       "      <td>70</td>\n",
       "      <td>audio</td>\n",
       "      <td>technology</td>\n",
       "      <td>https://socialbuzz.cdn.com/content/storage/75d...</td>\n",
       "    </tr>\n",
       "  </tbody>\n",
       "</table>\n",
       "<p>22534 rows × 9 columns</p>\n",
       "</div>"
      ],
      "text/plain": [
       "                                 Content ID  \\\n",
       "0      97522e57-d9ab-4bd6-97bf-c24d952602d2   \n",
       "1      97522e57-d9ab-4bd6-97bf-c24d952602d2   \n",
       "2      97522e57-d9ab-4bd6-97bf-c24d952602d2   \n",
       "3      97522e57-d9ab-4bd6-97bf-c24d952602d2   \n",
       "4      97522e57-d9ab-4bd6-97bf-c24d952602d2   \n",
       "...                                     ...   \n",
       "22529  75d6b589-7fae-4a6d-b0d0-752845150e56   \n",
       "22530  75d6b589-7fae-4a6d-b0d0-752845150e56   \n",
       "22531  75d6b589-7fae-4a6d-b0d0-752845150e56   \n",
       "22532  75d6b589-7fae-4a6d-b0d0-752845150e56   \n",
       "22533  75d6b589-7fae-4a6d-b0d0-752845150e56   \n",
       "\n",
       "                                    User ID Reaction Type            Datetime  \\\n",
       "0      5d454588-283d-459d-915d-c48a2cb4c27f       disgust 2020-11-07 09:43:50   \n",
       "1      92b87fa5-f271-43e0-af66-84fac21052e6       dislike 2021-06-17 12:22:51   \n",
       "2      163daa38-8b77-48c9-9af6-37a6c1447ac2        scared 2021-04-18 05:13:58   \n",
       "3      34e8add9-0206-47fd-a501-037b994650a2       disgust 2021-01-06 19:13:01   \n",
       "4      9b6d35f9-5e15-4cd0-a8d7-b1f3340e02c4    interested 2020-08-23 12:25:58   \n",
       "...                                     ...           ...                 ...   \n",
       "22529  b6d04982-1509-41ab-a700-b390d6cb4d02       worried 2020-10-31 04:50:14   \n",
       "22530  80c9ce48-46f9-4f5e-b3ca-3b698fc2e949       dislike 2020-06-27 09:46:48   \n",
       "22531  2bd9c167-e06c-47c1-a978-3403d6724606     intrigued 2021-02-16 17:17:02   \n",
       "22532  5ffd8b51-164e-47e2-885e-8b8c46eb63ed       worried 2020-11-04 20:08:31   \n",
       "22533  4edc3d1a-a7d9-4db6-89c3-f784d9954172       cherish 2021-01-04 04:55:11   \n",
       "\n",
       "      Sentiment  Score   Type    Category  \\\n",
       "0      negative      0  photo    Studying   \n",
       "1      negative     10  photo    Studying   \n",
       "2      negative     15  photo    Studying   \n",
       "3      negative      0  photo    Studying   \n",
       "4      positive     30  photo    Studying   \n",
       "...         ...    ...    ...         ...   \n",
       "22529  negative     12  audio  technology   \n",
       "22530  negative     10  audio  technology   \n",
       "22531  positive     45  audio  technology   \n",
       "22532  negative     12  audio  technology   \n",
       "22533  positive     70  audio  technology   \n",
       "\n",
       "                                                     URL  \n",
       "0      https://socialbuzz.cdn.com/content/storage/975...  \n",
       "1      https://socialbuzz.cdn.com/content/storage/975...  \n",
       "2      https://socialbuzz.cdn.com/content/storage/975...  \n",
       "3      https://socialbuzz.cdn.com/content/storage/975...  \n",
       "4      https://socialbuzz.cdn.com/content/storage/975...  \n",
       "...                                                  ...  \n",
       "22529  https://socialbuzz.cdn.com/content/storage/75d...  \n",
       "22530  https://socialbuzz.cdn.com/content/storage/75d...  \n",
       "22531  https://socialbuzz.cdn.com/content/storage/75d...  \n",
       "22532  https://socialbuzz.cdn.com/content/storage/75d...  \n",
       "22533  https://socialbuzz.cdn.com/content/storage/75d...  \n",
       "\n",
       "[22534 rows x 9 columns]"
      ]
     },
     "execution_count": 23,
     "metadata": {},
     "output_type": "execute_result"
    }
   ],
   "source": [
    "data"
   ]
  },
  {
   "cell_type": "code",
   "execution_count": 24,
   "metadata": {},
   "outputs": [],
   "source": [
    "data.to_csv('accenture_global_dataset.csv', index=False)"
   ]
  },
  {
   "cell_type": "code",
   "execution_count": 25,
   "metadata": {},
   "outputs": [],
   "source": [
    "df = pd.read_csv('accenture_global_dataset.csv')"
   ]
  },
  {
   "attachments": {},
   "cell_type": "markdown",
   "metadata": {},
   "source": [
    "## Top 5 performing categories"
   ]
  },
  {
   "cell_type": "code",
   "execution_count": 26,
   "metadata": {},
   "outputs": [
    {
     "data": {
      "text/plain": [
       "travel            1368\n",
       "science           1351\n",
       "animals           1323\n",
       "healthy eating    1303\n",
       "cooking           1277\n",
       "Name: Category, dtype: int64"
      ]
     },
     "execution_count": 26,
     "metadata": {},
     "output_type": "execute_result"
    }
   ],
   "source": [
    "# top 5 performing categories\n",
    "df['Category'].value_counts().head(5)"
   ]
  },
  {
   "cell_type": "code",
   "execution_count": 27,
   "metadata": {},
   "outputs": [
    {
     "data": {
      "image/png": "[encoded data removed]",
      "text/plain": [
       "<Figure size 1000x500 with 1 Axes>"
      ]
     },
     "metadata": {},
     "output_type": "display_data"
    },
    {
     "data": {
      "text/plain": [
       "<Figure size 640x480 with 0 Axes>"
      ]
     },
     "metadata": {},
     "output_type": "display_data"
    }
   ],
   "source": [
    "# plot the top 5 performing categories\n",
    "plt.figure(figsize=(10,5))\n",
    "ax = sns.countplot(x='Category',data=df,order=df['Category'].value_counts().iloc[:5].index, palette='Blues')\n",
    "plt.xlabel('Category')\n",
    "plt.ylabel('Count')\n",
    "plt.title('Top 5 Performing Categories')\n",
    "plt.xticks(rotation=45)\n",
    "for p in ax.patches:\n",
    "    ax.annotate(format(p.get_height(), '.0f'), (p.get_x() + p.get_width() / 2., p.get_height()), ha = 'center', va = 'center', xytext = (0, 10), textcoords = 'offset points')\n",
    "\n",
    "plt.show()\n",
    "\n",
    "# save the plot\n",
    "plt.savefig('Top 5 Performing Categories.png')\n"
   ]
  },
  {
   "cell_type": "code",
   "execution_count": 28,
   "metadata": {},
   "outputs": [
    {
     "data": {
      "text/plain": [
       "Category        Sentiment\n",
       "travel          positive     45705\n",
       "science         positive     45457\n",
       "healthy eating  positive     45049\n",
       "animals         positive     44106\n",
       "cooking         positive     41888\n",
       "Name: Score, dtype: int64"
      ]
     },
     "execution_count": 28,
     "metadata": {},
     "output_type": "execute_result"
    }
   ],
   "source": [
    "# top 5 performing categories by sentiment\n",
    "df.groupby(['Category','Sentiment'])['Score'].sum().sort_values(ascending=False).head(5)"
   ]
  },
  {
   "cell_type": "code",
   "execution_count": 29,
   "metadata": {},
   "outputs": [
    {
     "data": {
      "image/png": "[encoded data removed]",
      "text/plain": [
       "<Figure size 1000x500 with 1 Axes>"
      ]
     },
     "metadata": {},
     "output_type": "display_data"
    },
    {
     "data": {
      "text/plain": [
       "<Figure size 640x480 with 0 Axes>"
      ]
     },
     "metadata": {},
     "output_type": "display_data"
    }
   ],
   "source": [
    "# plot the top 5 performing categories by sentiment\n",
    "plt.figure(figsize=(10,5))\n",
    "ax = sns.countplot(x='Category',data=df,order=df['Category'].value_counts().iloc[:5].index, hue='Sentiment', palette='Blues')\n",
    "plt.xlabel('Category')\n",
    "plt.ylabel('Count')\n",
    "plt.title('Top 5 Performing Categories by Sentiment')\n",
    "plt.xticks(rotation=45)\n",
    "\n",
    "for p in ax.patches:\n",
    "    ax.annotate(format(p.get_height(), '.0f'), (p.get_x() + p.get_width() / 2., p.get_height()), ha = 'center', va = 'center', xytext = (0, 10), textcoords = 'offset points')\n",
    "\n",
    "plt.show()\n",
    "\n",
    "# save the plot\n",
    "plt.savefig('Top 5 Performing Categories by Sentiment.png')"
   ]
  },
  {
   "cell_type": "code",
   "execution_count": 30,
   "metadata": {},
   "outputs": [
    {
     "data": {
      "text/plain": [
       "Category        Score\n",
       "travel          70       12530\n",
       "healthy eating  70       11970\n",
       "animals         70       11970\n",
       "science         70       11900\n",
       "food            70       11620\n",
       "Name: Score, dtype: int64"
      ]
     },
     "execution_count": 30,
     "metadata": {},
     "output_type": "execute_result"
    }
   ],
   "source": [
    "# top 5 performing categories by score\n",
    "df.groupby(['Category','Score'])['Score'].sum().sort_values(ascending=False).head(5)"
   ]
  },
  {
   "cell_type": "code",
   "execution_count": 31,
   "metadata": {},
   "outputs": [
    {
     "data": {
      "image/png": "[encoded data removed]",
      "text/plain": [
       "<Figure size 2000x2000 with 1 Axes>"
      ]
     },
     "metadata": {},
     "output_type": "display_data"
    },
    {
     "data": {
      "text/plain": [
       "<Figure size 640x480 with 0 Axes>"
      ]
     },
     "metadata": {},
     "output_type": "display_data"
    }
   ],
   "source": [
    "# plot the top 5 performing categories by score\n",
    "plt.figure(figsize=(20,20))\n",
    "ax = sns.countplot(x='Category',data=df,order=df['Category'].value_counts().iloc[:5].index, hue='Score', palette='Blues')\n",
    "plt.ylabel('Count')\n",
    "plt.title('Top 5 Performing Categories by Score')\n",
    "plt.xticks(rotation=45)\n",
    "\n",
    "for p in ax.patches:\n",
    "    ax.annotate(format(p.get_height(), '.0f'), (p.get_x() + p.get_width() / 2., p.get_height()), ha = 'center', va = 'center', xytext = (0, 10), textcoords = 'offset points')\n",
    "\n",
    "plt.show()\n",
    "\n",
    "# save the plot\n",
    "plt.savefig('Top 5 Performing Categories by Score.png')"
   ]
  },
  {
   "cell_type": "code",
   "execution_count": 32,
   "metadata": {},
   "outputs": [
    {
     "data": {
      "text/plain": [
       "Category\n",
       "travel            1368\n",
       "science           1351\n",
       "animals           1323\n",
       "healthy eating    1303\n",
       "cooking           1277\n",
       "Name: Reaction Type, dtype: int64"
      ]
     },
     "execution_count": 32,
     "metadata": {},
     "output_type": "execute_result"
    }
   ],
   "source": [
    "# categories with most reactions\n",
    "df.groupby(['Category'])['Reaction Type'].count().sort_values(ascending=False).head(5)"
   ]
  },
  {
   "cell_type": "code",
   "execution_count": 33,
   "metadata": {},
   "outputs": [
    {
     "data": {
      "image/png": "[encoded data removed]",
      "text/plain": [
       "<Figure size 2000x2000 with 1 Axes>"
      ]
     },
     "metadata": {},
     "output_type": "display_data"
    },
    {
     "data": {
      "text/plain": [
       "<Figure size 640x480 with 0 Axes>"
      ]
     },
     "metadata": {},
     "output_type": "display_data"
    }
   ],
   "source": [
    "# plot the reaction type for top 5 performing categories\n",
    "plt.figure(figsize=(20,20))\n",
    "ax = sns.countplot(x='Category',data=df,order=df['Category'].value_counts().iloc[:5].index, hue='Reaction Type', palette='Blues')\n",
    "plt.xlabel('Category')\n",
    "plt.ylabel('Count')\n",
    "plt.title('Top 5 Performing Categories by Reaction Type')\n",
    "plt.xticks(rotation=45)\n",
    "\n",
    "for p in ax.patches:\n",
    "    ax.annotate(format(p.get_height(), '.0f'), (p.get_x() + p.get_width() / 2., p.get_height()), ha = 'center', va = 'center', xytext = (0, 10), textcoords = 'offset points')\n",
    "\n",
    "plt.show()\n",
    "\n",
    "# save the plot\n",
    "plt.savefig('Top 5 Performing Categories by Reaction Type.png')"
   ]
  }
 ],
 "metadata": {
  "kernelspec": {
   "display_name": "venv",
   "language": "python",
   "name": "python3"
  },
  "language_info": {
   "codemirror_mode": {
    "name": "ipython",
    "version": 3
   },
   "file_extension": ".py",
   "mimetype": "text/x-python",
   "name": "python",
   "nbconvert_exporter": "python",
   "pygments_lexer": "ipython3",
   "version": "3.11.1"
  },
  "orig_nbformat": 4
 },
 "nbformat": 4,
 "nbformat_minor": 2
}
