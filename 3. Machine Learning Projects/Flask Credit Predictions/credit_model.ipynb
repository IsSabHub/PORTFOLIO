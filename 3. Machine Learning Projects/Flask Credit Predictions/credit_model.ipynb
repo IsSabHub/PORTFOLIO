{
  "cells": [
    {
      "cell_type": "code",
      "execution_count": 35,
      "metadata": {
        "id": "hge-lTvHV4gJ"
      },
      "outputs": [],
      "source": [
        "# importer les packages\n",
        "import pandas as pd\n",
        "import numpy as np\n",
        "import matplotlib.pyplot as plt\n",
        "import seaborn as sns\n",
        "from sklearn.preprocessing import LabelEncoder\n",
        "from sklearn.model_selection import StratifiedShuffleSplit\n",
        "from sklearn.linear_model import LogisticRegression\n",
        "from sklearn.neighbors import KNeighborsClassifier\n",
        "from sklearn.tree import DecisionTreeClassifier\n",
        "from sklearn.metrics import accuracy_score\n",
        "import warnings\n",
        "warnings.filterwarnings(\"ignore\")\n",
        "import pickle"
      ]
    },
    {
      "cell_type": "code",
      "execution_count": 36,
      "metadata": {
        "colab": {
          "base_uri": "https://localhost:8080/",
          "height": 461
        },
        "id": "bGxNu4ANWuII",
        "outputId": "1fdeb3ec-68b2-439b-a4cf-3b778170bf17",
        "vscode": {
          "languageId": "powershell"
        }
      },
      "outputs": [
        {
          "data": {
            "text/html": [
              "<div>\n",
              "<style scoped>\n",
              "    .dataframe tbody tr th:only-of-type {\n",
              "        vertical-align: middle;\n",
              "    }\n",
              "\n",
              "    .dataframe tbody tr th {\n",
              "        vertical-align: top;\n",
              "    }\n",
              "\n",
              "    .dataframe thead th {\n",
              "        text-align: right;\n",
              "    }\n",
              "</style>\n",
              "<table border=\"1\" class=\"dataframe\">\n",
              "  <thead>\n",
              "    <tr style=\"text-align: right;\">\n",
              "      <th></th>\n",
              "      <th>Loan_ID</th>\n",
              "      <th>Gender</th>\n",
              "      <th>Married</th>\n",
              "      <th>Dependents</th>\n",
              "      <th>Education</th>\n",
              "      <th>Self_Employed</th>\n",
              "      <th>ApplicantIncome</th>\n",
              "      <th>CoapplicantIncome</th>\n",
              "      <th>LoanAmount</th>\n",
              "      <th>Loan_Amount_Term</th>\n",
              "      <th>Credit_History</th>\n",
              "      <th>Property_Area</th>\n",
              "      <th>Loan_Status</th>\n",
              "    </tr>\n",
              "  </thead>\n",
              "  <tbody>\n",
              "    <tr>\n",
              "      <th>0</th>\n",
              "      <td>LP001002</td>\n",
              "      <td>Male</td>\n",
              "      <td>No</td>\n",
              "      <td>0</td>\n",
              "      <td>Graduate</td>\n",
              "      <td>No</td>\n",
              "      <td>5849</td>\n",
              "      <td>0.0</td>\n",
              "      <td>NaN</td>\n",
              "      <td>360.0</td>\n",
              "      <td>1.0</td>\n",
              "      <td>Urban</td>\n",
              "      <td>Y</td>\n",
              "    </tr>\n",
              "    <tr>\n",
              "      <th>1</th>\n",
              "      <td>LP001003</td>\n",
              "      <td>Male</td>\n",
              "      <td>Yes</td>\n",
              "      <td>1</td>\n",
              "      <td>Graduate</td>\n",
              "      <td>No</td>\n",
              "      <td>4583</td>\n",
              "      <td>1508.0</td>\n",
              "      <td>128.0</td>\n",
              "      <td>360.0</td>\n",
              "      <td>1.0</td>\n",
              "      <td>Rural</td>\n",
              "      <td>N</td>\n",
              "    </tr>\n",
              "    <tr>\n",
              "      <th>2</th>\n",
              "      <td>LP001005</td>\n",
              "      <td>Male</td>\n",
              "      <td>Yes</td>\n",
              "      <td>0</td>\n",
              "      <td>Graduate</td>\n",
              "      <td>Yes</td>\n",
              "      <td>3000</td>\n",
              "      <td>0.0</td>\n",
              "      <td>66.0</td>\n",
              "      <td>360.0</td>\n",
              "      <td>1.0</td>\n",
              "      <td>Urban</td>\n",
              "      <td>Y</td>\n",
              "    </tr>\n",
              "    <tr>\n",
              "      <th>3</th>\n",
              "      <td>LP001006</td>\n",
              "      <td>Male</td>\n",
              "      <td>Yes</td>\n",
              "      <td>0</td>\n",
              "      <td>Not Graduate</td>\n",
              "      <td>No</td>\n",
              "      <td>2583</td>\n",
              "      <td>2358.0</td>\n",
              "      <td>120.0</td>\n",
              "      <td>360.0</td>\n",
              "      <td>1.0</td>\n",
              "      <td>Urban</td>\n",
              "      <td>Y</td>\n",
              "    </tr>\n",
              "    <tr>\n",
              "      <th>4</th>\n",
              "      <td>LP001008</td>\n",
              "      <td>Male</td>\n",
              "      <td>No</td>\n",
              "      <td>0</td>\n",
              "      <td>Graduate</td>\n",
              "      <td>No</td>\n",
              "      <td>6000</td>\n",
              "      <td>0.0</td>\n",
              "      <td>141.0</td>\n",
              "      <td>360.0</td>\n",
              "      <td>1.0</td>\n",
              "      <td>Urban</td>\n",
              "      <td>Y</td>\n",
              "    </tr>\n",
              "    <tr>\n",
              "      <th>...</th>\n",
              "      <td>...</td>\n",
              "      <td>...</td>\n",
              "      <td>...</td>\n",
              "      <td>...</td>\n",
              "      <td>...</td>\n",
              "      <td>...</td>\n",
              "      <td>...</td>\n",
              "      <td>...</td>\n",
              "      <td>...</td>\n",
              "      <td>...</td>\n",
              "      <td>...</td>\n",
              "      <td>...</td>\n",
              "      <td>...</td>\n",
              "    </tr>\n",
              "    <tr>\n",
              "      <th>609</th>\n",
              "      <td>LP002978</td>\n",
              "      <td>Female</td>\n",
              "      <td>No</td>\n",
              "      <td>0</td>\n",
              "      <td>Graduate</td>\n",
              "      <td>No</td>\n",
              "      <td>2900</td>\n",
              "      <td>0.0</td>\n",
              "      <td>71.0</td>\n",
              "      <td>360.0</td>\n",
              "      <td>1.0</td>\n",
              "      <td>Rural</td>\n",
              "      <td>Y</td>\n",
              "    </tr>\n",
              "    <tr>\n",
              "      <th>610</th>\n",
              "      <td>LP002979</td>\n",
              "      <td>Male</td>\n",
              "      <td>Yes</td>\n",
              "      <td>3+</td>\n",
              "      <td>Graduate</td>\n",
              "      <td>No</td>\n",
              "      <td>4106</td>\n",
              "      <td>0.0</td>\n",
              "      <td>40.0</td>\n",
              "      <td>180.0</td>\n",
              "      <td>1.0</td>\n",
              "      <td>Rural</td>\n",
              "      <td>Y</td>\n",
              "    </tr>\n",
              "    <tr>\n",
              "      <th>611</th>\n",
              "      <td>LP002983</td>\n",
              "      <td>Male</td>\n",
              "      <td>Yes</td>\n",
              "      <td>1</td>\n",
              "      <td>Graduate</td>\n",
              "      <td>No</td>\n",
              "      <td>8072</td>\n",
              "      <td>240.0</td>\n",
              "      <td>253.0</td>\n",
              "      <td>360.0</td>\n",
              "      <td>1.0</td>\n",
              "      <td>Urban</td>\n",
              "      <td>Y</td>\n",
              "    </tr>\n",
              "    <tr>\n",
              "      <th>612</th>\n",
              "      <td>LP002984</td>\n",
              "      <td>Male</td>\n",
              "      <td>Yes</td>\n",
              "      <td>2</td>\n",
              "      <td>Graduate</td>\n",
              "      <td>No</td>\n",
              "      <td>7583</td>\n",
              "      <td>0.0</td>\n",
              "      <td>187.0</td>\n",
              "      <td>360.0</td>\n",
              "      <td>1.0</td>\n",
              "      <td>Urban</td>\n",
              "      <td>Y</td>\n",
              "    </tr>\n",
              "    <tr>\n",
              "      <th>613</th>\n",
              "      <td>LP002990</td>\n",
              "      <td>Female</td>\n",
              "      <td>No</td>\n",
              "      <td>0</td>\n",
              "      <td>Graduate</td>\n",
              "      <td>Yes</td>\n",
              "      <td>4583</td>\n",
              "      <td>0.0</td>\n",
              "      <td>133.0</td>\n",
              "      <td>360.0</td>\n",
              "      <td>0.0</td>\n",
              "      <td>Semiurban</td>\n",
              "      <td>N</td>\n",
              "    </tr>\n",
              "  </tbody>\n",
              "</table>\n",
              "<p>614 rows × 13 columns</p>\n",
              "</div>"
            ],
            "text/plain": [
              "      Loan_ID  Gender Married Dependents     Education Self_Employed  \\\n",
              "0    LP001002    Male      No          0      Graduate            No   \n",
              "1    LP001003    Male     Yes          1      Graduate            No   \n",
              "2    LP001005    Male     Yes          0      Graduate           Yes   \n",
              "3    LP001006    Male     Yes          0  Not Graduate            No   \n",
              "4    LP001008    Male      No          0      Graduate            No   \n",
              "..        ...     ...     ...        ...           ...           ...   \n",
              "609  LP002978  Female      No          0      Graduate            No   \n",
              "610  LP002979    Male     Yes         3+      Graduate            No   \n",
              "611  LP002983    Male     Yes          1      Graduate            No   \n",
              "612  LP002984    Male     Yes          2      Graduate            No   \n",
              "613  LP002990  Female      No          0      Graduate           Yes   \n",
              "\n",
              "     ApplicantIncome  CoapplicantIncome  LoanAmount  Loan_Amount_Term  \\\n",
              "0               5849                0.0         NaN             360.0   \n",
              "1               4583             1508.0       128.0             360.0   \n",
              "2               3000                0.0        66.0             360.0   \n",
              "3               2583             2358.0       120.0             360.0   \n",
              "4               6000                0.0       141.0             360.0   \n",
              "..               ...                ...         ...               ...   \n",
              "609             2900                0.0        71.0             360.0   \n",
              "610             4106                0.0        40.0             180.0   \n",
              "611             8072              240.0       253.0             360.0   \n",
              "612             7583                0.0       187.0             360.0   \n",
              "613             4583                0.0       133.0             360.0   \n",
              "\n",
              "     Credit_History Property_Area Loan_Status  \n",
              "0               1.0         Urban           Y  \n",
              "1               1.0         Rural           N  \n",
              "2               1.0         Urban           Y  \n",
              "3               1.0         Urban           Y  \n",
              "4               1.0         Urban           Y  \n",
              "..              ...           ...         ...  \n",
              "609             1.0         Rural           Y  \n",
              "610             1.0         Rural           Y  \n",
              "611             1.0         Urban           Y  \n",
              "612             1.0         Urban           Y  \n",
              "613             0.0     Semiurban           N  \n",
              "\n",
              "[614 rows x 13 columns]"
            ]
          },
          "execution_count": 36,
          "metadata": {},
          "output_type": "execute_result"
        }
      ],
      "source": [
        "#importer et lire la base de données\n",
        "df=pd.read_csv('train_u6lujuX_CVtuZ9i.csv')\n",
        "df"
      ]
    },
    {
      "cell_type": "code",
      "execution_count": 37,
      "metadata": {
        "colab": {
          "base_uri": "https://localhost:8080/",
          "height": 384
        },
        "id": "haVOrwytX-8Y",
        "outputId": "60777420-a73d-4f3f-beb1-915a4a9de976",
        "vscode": {
          "languageId": "powershell"
        }
      },
      "outputs": [
        {
          "name": "stdout",
          "output_type": "stream",
          "text": [
            "<class 'pandas.core.frame.DataFrame'>\n",
            "RangeIndex: 614 entries, 0 to 613\n",
            "Data columns (total 13 columns):\n",
            " #   Column             Non-Null Count  Dtype  \n",
            "---  ------             --------------  -----  \n",
            " 0   Loan_ID            614 non-null    object \n",
            " 1   Gender             601 non-null    object \n",
            " 2   Married            611 non-null    object \n",
            " 3   Dependents         599 non-null    object \n",
            " 4   Education          614 non-null    object \n",
            " 5   Self_Employed      582 non-null    object \n",
            " 6   ApplicantIncome    614 non-null    int64  \n",
            " 7   CoapplicantIncome  614 non-null    float64\n",
            " 8   LoanAmount         592 non-null    float64\n",
            " 9   Loan_Amount_Term   600 non-null    float64\n",
            " 10  Credit_History     564 non-null    float64\n",
            " 11  Property_Area      614 non-null    object \n",
            " 12  Loan_Status        614 non-null    object \n",
            "dtypes: float64(4), int64(1), object(8)\n",
            "memory usage: 62.5+ KB\n"
          ]
        }
      ],
      "source": [
        "# voir les valeurs manquantes\n",
        "df.info()"
      ]
    },
    {
      "cell_type": "code",
      "execution_count": 38,
      "metadata": {
        "colab": {
          "base_uri": "https://localhost:8080/",
          "height": 246
        },
        "id": "3nOxOJVKYTGG",
        "outputId": "8448de39-ad7b-4bff-eca1-3b90cf4e4375",
        "vscode": {
          "languageId": "powershell"
        }
      },
      "outputs": [
        {
          "data": {
            "text/plain": [
              "Credit_History       50\n",
              "Self_Employed        32\n",
              "LoanAmount           22\n",
              "Dependents           15\n",
              "Loan_Amount_Term     14\n",
              "Gender               13\n",
              "Married               3\n",
              "Loan_ID               0\n",
              "Education             0\n",
              "ApplicantIncome       0\n",
              "CoapplicantIncome     0\n",
              "Property_Area         0\n",
              "Loan_Status           0\n",
              "dtype: int64"
            ]
          },
          "execution_count": 38,
          "metadata": {},
          "output_type": "execute_result"
        }
      ],
      "source": [
        "df.isnull().sum().sort_values(ascending=False)"
      ]
    },
    {
      "cell_type": "code",
      "execution_count": 39,
      "metadata": {
        "colab": {
          "base_uri": "https://localhost:8080/",
          "height": 195
        },
        "id": "m04_5U6QYlWd",
        "outputId": "b8e3e833-7b20-4942-942f-51dec3cb5ef3",
        "vscode": {
          "languageId": "powershell"
        }
      },
      "outputs": [
        {
          "data": {
            "text/html": [
              "<div>\n",
              "<style scoped>\n",
              "    .dataframe tbody tr th:only-of-type {\n",
              "        vertical-align: middle;\n",
              "    }\n",
              "\n",
              "    .dataframe tbody tr th {\n",
              "        vertical-align: top;\n",
              "    }\n",
              "\n",
              "    .dataframe thead th {\n",
              "        text-align: right;\n",
              "    }\n",
              "</style>\n",
              "<table border=\"1\" class=\"dataframe\">\n",
              "  <thead>\n",
              "    <tr style=\"text-align: right;\">\n",
              "      <th></th>\n",
              "      <th>Loan_ID</th>\n",
              "      <th>Gender</th>\n",
              "      <th>Married</th>\n",
              "      <th>Dependents</th>\n",
              "      <th>Education</th>\n",
              "      <th>Self_Employed</th>\n",
              "      <th>Property_Area</th>\n",
              "      <th>Loan_Status</th>\n",
              "    </tr>\n",
              "  </thead>\n",
              "  <tbody>\n",
              "    <tr>\n",
              "      <th>count</th>\n",
              "      <td>614</td>\n",
              "      <td>601</td>\n",
              "      <td>611</td>\n",
              "      <td>599</td>\n",
              "      <td>614</td>\n",
              "      <td>582</td>\n",
              "      <td>614</td>\n",
              "      <td>614</td>\n",
              "    </tr>\n",
              "    <tr>\n",
              "      <th>unique</th>\n",
              "      <td>614</td>\n",
              "      <td>2</td>\n",
              "      <td>2</td>\n",
              "      <td>4</td>\n",
              "      <td>2</td>\n",
              "      <td>2</td>\n",
              "      <td>3</td>\n",
              "      <td>2</td>\n",
              "    </tr>\n",
              "    <tr>\n",
              "      <th>top</th>\n",
              "      <td>LP001002</td>\n",
              "      <td>Male</td>\n",
              "      <td>Yes</td>\n",
              "      <td>0</td>\n",
              "      <td>Graduate</td>\n",
              "      <td>No</td>\n",
              "      <td>Semiurban</td>\n",
              "      <td>Y</td>\n",
              "    </tr>\n",
              "    <tr>\n",
              "      <th>freq</th>\n",
              "      <td>1</td>\n",
              "      <td>489</td>\n",
              "      <td>398</td>\n",
              "      <td>345</td>\n",
              "      <td>480</td>\n",
              "      <td>500</td>\n",
              "      <td>233</td>\n",
              "      <td>422</td>\n",
              "    </tr>\n",
              "  </tbody>\n",
              "</table>\n",
              "</div>"
            ],
            "text/plain": [
              "         Loan_ID Gender Married Dependents Education Self_Employed  \\\n",
              "count        614    601     611        599       614           582   \n",
              "unique       614      2       2          4         2             2   \n",
              "top     LP001002   Male     Yes          0  Graduate            No   \n",
              "freq           1    489     398        345       480           500   \n",
              "\n",
              "       Property_Area Loan_Status  \n",
              "count            614         614  \n",
              "unique             3           2  \n",
              "top        Semiurban           Y  \n",
              "freq             233         422  "
            ]
          },
          "execution_count": 39,
          "metadata": {},
          "output_type": "execute_result"
        }
      ],
      "source": [
        "df.describe(include='O')"
      ]
    },
    {
      "cell_type": "code",
      "execution_count": 40,
      "metadata": {
        "id": "rtVVC8veZazg",
        "vscode": {
          "languageId": "powershell"
        }
      },
      "outputs": [],
      "source": [
        "# Renseigner les valeurs manquantes\n",
        "cat_data=[]\n",
        "num_data=[]\n",
        "for i,c in enumerate(df.dtypes):\n",
        "  if c==object:\n",
        "    cat_data.append(df.iloc[:,i])\n",
        "  else:\n",
        "    num_data.append(df.iloc[:,i])\n",
        "cat_data=pd.DataFrame(cat_data).transpose()\n",
        "num_data=pd.DataFrame(num_data).transpose()"
      ]
    },
    {
      "cell_type": "code",
      "execution_count": 41,
      "metadata": {
        "colab": {
          "base_uri": "https://localhost:8080/",
          "height": 55
        },
        "id": "oZvaMylhbhK_",
        "outputId": "4eef7e43-0e9d-43a6-b958-d2aad7dfa813",
        "vscode": {
          "languageId": "powershell"
        }
      },
      "outputs": [
        {
          "data": {
            "text/plain": [
              "False"
            ]
          },
          "execution_count": 41,
          "metadata": {},
          "output_type": "execute_result"
        }
      ],
      "source": [
        "# Pour les variables catégoriques on va remplaczr les valeurs manquantes par les valeurs qui se repetent le plus\n",
        "cat_data=cat_data.apply(lambda x:x.fillna(x.value_counts().index[0]))\n",
        "cat_data.isnull().sum().any()"
      ]
    },
    {
      "cell_type": "code",
      "execution_count": 42,
      "metadata": {
        "colab": {
          "base_uri": "https://localhost:8080/",
          "height": 55
        },
        "id": "MCrUN19ScjB0",
        "outputId": "0a424603-bfc0-4b6e-98cc-9a4d7c865189",
        "vscode": {
          "languageId": "powershell"
        }
      },
      "outputs": [
        {
          "data": {
            "text/plain": [
              "False"
            ]
          },
          "execution_count": 42,
          "metadata": {},
          "output_type": "execute_result"
        }
      ],
      "source": [
        "# Pour les variables numériques on va remplacer les valeurs manquantes par la valeur précedente de la meme colonne\n",
        "num_data.fillna(method='bfill',inplace=True)\n",
        "num_data.isnull().sum().any()"
      ]
    },
    {
      "cell_type": "code",
      "execution_count": 43,
      "metadata": {
        "colab": {
          "base_uri": "https://localhost:8080/",
          "height": 246
        },
        "id": "Qs9YsAeDds3g",
        "outputId": "ef642772-7b6b-4fa7-e170-e2d113d6e26e",
        "vscode": {
          "languageId": "powershell"
        }
      },
      "outputs": [
        {
          "data": {
            "text/plain": [
              "0      1\n",
              "1      0\n",
              "2      1\n",
              "3      1\n",
              "4      1\n",
              "      ..\n",
              "609    1\n",
              "610    1\n",
              "611    1\n",
              "612    1\n",
              "613    0\n",
              "Name: Loan_Status, Length: 614, dtype: int64"
            ]
          },
          "execution_count": 43,
          "metadata": {},
          "output_type": "execute_result"
        }
      ],
      "source": [
        "# Tranformer la colonne target\n",
        "target_value={'Y':1,'N':0}\n",
        "target=cat_data['Loan_Status']\n",
        "cat_data.drop('Loan_Status',axis=1,inplace=True)\n",
        "target=target.map(target_value)\n",
        "target"
      ]
    },
    {
      "cell_type": "code",
      "execution_count": 44,
      "metadata": {
        "colab": {
          "base_uri": "https://localhost:8080/",
          "height": 444
        },
        "id": "lS_BLSpXez8G",
        "outputId": "0e49c798-d02f-44ba-ec15-d6b610edcaaa",
        "vscode": {
          "languageId": "powershell"
        }
      },
      "outputs": [
        {
          "data": {
            "text/html": [
              "<div>\n",
              "<style scoped>\n",
              "    .dataframe tbody tr th:only-of-type {\n",
              "        vertical-align: middle;\n",
              "    }\n",
              "\n",
              "    .dataframe tbody tr th {\n",
              "        vertical-align: top;\n",
              "    }\n",
              "\n",
              "    .dataframe thead th {\n",
              "        text-align: right;\n",
              "    }\n",
              "</style>\n",
              "<table border=\"1\" class=\"dataframe\">\n",
              "  <thead>\n",
              "    <tr style=\"text-align: right;\">\n",
              "      <th></th>\n",
              "      <th>Loan_ID</th>\n",
              "      <th>Gender</th>\n",
              "      <th>Married</th>\n",
              "      <th>Dependents</th>\n",
              "      <th>Education</th>\n",
              "      <th>Self_Employed</th>\n",
              "      <th>Property_Area</th>\n",
              "    </tr>\n",
              "  </thead>\n",
              "  <tbody>\n",
              "    <tr>\n",
              "      <th>0</th>\n",
              "      <td>0</td>\n",
              "      <td>1</td>\n",
              "      <td>0</td>\n",
              "      <td>0</td>\n",
              "      <td>0</td>\n",
              "      <td>0</td>\n",
              "      <td>2</td>\n",
              "    </tr>\n",
              "    <tr>\n",
              "      <th>1</th>\n",
              "      <td>1</td>\n",
              "      <td>1</td>\n",
              "      <td>1</td>\n",
              "      <td>1</td>\n",
              "      <td>0</td>\n",
              "      <td>0</td>\n",
              "      <td>0</td>\n",
              "    </tr>\n",
              "    <tr>\n",
              "      <th>2</th>\n",
              "      <td>2</td>\n",
              "      <td>1</td>\n",
              "      <td>1</td>\n",
              "      <td>0</td>\n",
              "      <td>0</td>\n",
              "      <td>1</td>\n",
              "      <td>2</td>\n",
              "    </tr>\n",
              "    <tr>\n",
              "      <th>3</th>\n",
              "      <td>3</td>\n",
              "      <td>1</td>\n",
              "      <td>1</td>\n",
              "      <td>0</td>\n",
              "      <td>1</td>\n",
              "      <td>0</td>\n",
              "      <td>2</td>\n",
              "    </tr>\n",
              "    <tr>\n",
              "      <th>4</th>\n",
              "      <td>4</td>\n",
              "      <td>1</td>\n",
              "      <td>0</td>\n",
              "      <td>0</td>\n",
              "      <td>0</td>\n",
              "      <td>0</td>\n",
              "      <td>2</td>\n",
              "    </tr>\n",
              "    <tr>\n",
              "      <th>...</th>\n",
              "      <td>...</td>\n",
              "      <td>...</td>\n",
              "      <td>...</td>\n",
              "      <td>...</td>\n",
              "      <td>...</td>\n",
              "      <td>...</td>\n",
              "      <td>...</td>\n",
              "    </tr>\n",
              "    <tr>\n",
              "      <th>609</th>\n",
              "      <td>609</td>\n",
              "      <td>0</td>\n",
              "      <td>0</td>\n",
              "      <td>0</td>\n",
              "      <td>0</td>\n",
              "      <td>0</td>\n",
              "      <td>0</td>\n",
              "    </tr>\n",
              "    <tr>\n",
              "      <th>610</th>\n",
              "      <td>610</td>\n",
              "      <td>1</td>\n",
              "      <td>1</td>\n",
              "      <td>3</td>\n",
              "      <td>0</td>\n",
              "      <td>0</td>\n",
              "      <td>0</td>\n",
              "    </tr>\n",
              "    <tr>\n",
              "      <th>611</th>\n",
              "      <td>611</td>\n",
              "      <td>1</td>\n",
              "      <td>1</td>\n",
              "      <td>1</td>\n",
              "      <td>0</td>\n",
              "      <td>0</td>\n",
              "      <td>2</td>\n",
              "    </tr>\n",
              "    <tr>\n",
              "      <th>612</th>\n",
              "      <td>612</td>\n",
              "      <td>1</td>\n",
              "      <td>1</td>\n",
              "      <td>2</td>\n",
              "      <td>0</td>\n",
              "      <td>0</td>\n",
              "      <td>2</td>\n",
              "    </tr>\n",
              "    <tr>\n",
              "      <th>613</th>\n",
              "      <td>613</td>\n",
              "      <td>0</td>\n",
              "      <td>0</td>\n",
              "      <td>0</td>\n",
              "      <td>0</td>\n",
              "      <td>1</td>\n",
              "      <td>1</td>\n",
              "    </tr>\n",
              "  </tbody>\n",
              "</table>\n",
              "<p>614 rows × 7 columns</p>\n",
              "</div>"
            ],
            "text/plain": [
              "     Loan_ID  Gender  Married  Dependents  Education  Self_Employed  \\\n",
              "0          0       1        0           0          0              0   \n",
              "1          1       1        1           1          0              0   \n",
              "2          2       1        1           0          0              1   \n",
              "3          3       1        1           0          1              0   \n",
              "4          4       1        0           0          0              0   \n",
              "..       ...     ...      ...         ...        ...            ...   \n",
              "609      609       0        0           0          0              0   \n",
              "610      610       1        1           3          0              0   \n",
              "611      611       1        1           1          0              0   \n",
              "612      612       1        1           2          0              0   \n",
              "613      613       0        0           0          0              1   \n",
              "\n",
              "     Property_Area  \n",
              "0                2  \n",
              "1                0  \n",
              "2                2  \n",
              "3                2  \n",
              "4                2  \n",
              "..             ...  \n",
              "609              0  \n",
              "610              0  \n",
              "611              2  \n",
              "612              2  \n",
              "613              1  \n",
              "\n",
              "[614 rows x 7 columns]"
            ]
          },
          "execution_count": 44,
          "metadata": {},
          "output_type": "execute_result"
        }
      ],
      "source": [
        "# Remplacer les valeurs catégoriques par des valeurs numérique 0,1,2...\n",
        "le=LabelEncoder()\n",
        "for i in cat_data:\n",
        "  cat_data[i]=le.fit_transform(cat_data[i])\n",
        "cat_data"
      ]
    },
    {
      "cell_type": "code",
      "execution_count": 45,
      "metadata": {
        "id": "Wp46-8glf9TY",
        "vscode": {
          "languageId": "powershell"
        }
      },
      "outputs": [],
      "source": [
        "# Supprimer loan_id\n",
        "cat_data.drop('Loan_ID',axis=1,inplace=True)"
      ]
    },
    {
      "cell_type": "code",
      "execution_count": 46,
      "metadata": {
        "id": "uFnSamVFgVL8",
        "vscode": {
          "languageId": "powershell"
        }
      },
      "outputs": [],
      "source": [
        "# Concatener cat_Data et num_data et spécifier la colonne target\n",
        "X=pd.concat([cat_data,num_data],axis=1)\n",
        "y=target"
      ]
    },
    {
      "cell_type": "code",
      "execution_count": 47,
      "metadata": {
        "colab": {
          "base_uri": "https://localhost:8080/",
          "height": 246
        },
        "id": "Pc22Ru25gusy",
        "outputId": "c97a121e-bbb4-481a-96f5-7d526eb0f0b3",
        "vscode": {
          "languageId": "powershell"
        }
      },
      "outputs": [
        {
          "data": {
            "text/plain": [
              "0      1\n",
              "1      0\n",
              "2      1\n",
              "3      1\n",
              "4      1\n",
              "      ..\n",
              "609    1\n",
              "610    1\n",
              "611    1\n",
              "612    1\n",
              "613    0\n",
              "Name: Loan_Status, Length: 614, dtype: int64"
            ]
          },
          "execution_count": 47,
          "metadata": {},
          "output_type": "execute_result"
        }
      ],
      "source": [
        "y"
      ]
    },
    {
      "cell_type": "code",
      "execution_count": 48,
      "metadata": {
        "colab": {
          "base_uri": "https://localhost:8080/",
          "height": 90
        },
        "id": "tfqeFjexqw3D",
        "outputId": "e74358ed-d329-48ca-fa3d-9198345e80a5",
        "vscode": {
          "languageId": "powershell"
        }
      },
      "outputs": [
        {
          "data": {
            "text/plain": [
              "1    422\n",
              "0    192\n",
              "Name: Loan_Status, dtype: int64"
            ]
          },
          "execution_count": 48,
          "metadata": {},
          "output_type": "execute_result"
        }
      ],
      "source": [
        "target.value_counts()"
      ]
    },
    {
      "cell_type": "code",
      "execution_count": 49,
      "metadata": {
        "id": "T6GGETlItrv_",
        "vscode": {
          "languageId": "powershell"
        }
      },
      "outputs": [],
      "source": [
        "# la base de données utilisée pour EDA\n",
        "df=pd.concat([cat_data,num_data,target],axis=1)"
      ]
    },
    {
      "cell_type": "code",
      "execution_count": 50,
      "metadata": {
        "colab": {
          "base_uri": "https://localhost:8080/",
          "height": 444
        },
        "id": "hxWa4fPLrSeC",
        "outputId": "d8cdc9ab-1ccd-40c5-cfe6-7b083b502947",
        "vscode": {
          "languageId": "powershell"
        }
      },
      "outputs": [
        {
          "name": "stdout",
          "output_type": "stream",
          "text": [
            "le pourcentage des crédits accordés est: 0.3127035830618892\n",
            "le pourcentage des crédits non accordés est: 0.6872964169381107\n"
          ]
        },
        {
          "data": {
            "image/png": "[encoded data removed]",
            "text/plain": [
              "<Figure size 400x400 with 1 Axes>"
            ]
          },
          "metadata": {},
          "output_type": "display_data"
        }
      ],
      "source": [
        "plt.figure(figsize=(4,4))\n",
        "sns.countplot(x=target)\n",
        "yes=target.value_counts()[0]/len(target)\n",
        "no=target.value_counts()[1]/len(target)\n",
        "print(f'le pourcentage des crédits accordés est: {yes}')\n",
        "print(f'le pourcentage des crédits non accordés est: {no}')"
      ]
    },
    {
      "cell_type": "code",
      "execution_count": 51,
      "metadata": {
        "colab": {
          "base_uri": "https://localhost:8080/",
          "height": 316
        },
        "id": "JxF9dSlSstxL",
        "outputId": "468fef1e-2cd9-4f06-e1c6-46ac93db8682",
        "vscode": {
          "languageId": "powershell"
        }
      },
      "outputs": [
        {
          "data": {
            "image/png": "[encoded data removed]",
            "text/plain": [
              "<Figure size 600x300 with 2 Axes>"
            ]
          },
          "metadata": {},
          "output_type": "display_data"
        }
      ],
      "source": [
        "# Credit history \n",
        "grid=sns.FacetGrid(df,col='Loan_Status')\n",
        "grid.map(sns.countplot,'Credit_History');"
      ]
    },
    {
      "cell_type": "code",
      "execution_count": 52,
      "metadata": {
        "colab": {
          "base_uri": "https://localhost:8080/",
          "height": 316
        },
        "id": "JqUA5wWeufrI",
        "outputId": "102cf5bf-3724-4e04-f224-bef1cf5756c9",
        "vscode": {
          "languageId": "powershell"
        }
      },
      "outputs": [
        {
          "data": {
            "image/png": "[encoded data removed]",
            "text/plain": [
              "<Figure size 600x300 with 2 Axes>"
            ]
          },
          "metadata": {},
          "output_type": "display_data"
        }
      ],
      "source": [
        "# Sexe\n",
        "grid=sns.FacetGrid(df,col='Loan_Status')\n",
        "grid.map(sns.countplot,'Gender');"
      ]
    },
    {
      "cell_type": "code",
      "execution_count": 53,
      "metadata": {
        "colab": {
          "base_uri": "https://localhost:8080/",
          "height": 316
        },
        "id": "GaCWC1Opux9P",
        "outputId": "c0d21118-578f-4569-f6a4-1f795fd4a3cb",
        "vscode": {
          "languageId": "powershell"
        }
      },
      "outputs": [
        {
          "data": {
            "image/png": "[encoded data removed]",
            "text/plain": [
              "<Figure size 600x300 with 2 Axes>"
            ]
          },
          "metadata": {},
          "output_type": "display_data"
        }
      ],
      "source": [
        "# Sexe\n",
        "grid=sns.FacetGrid(df,col='Loan_Status')\n",
        "grid.map(sns.countplot,'Married');"
      ]
    },
    {
      "cell_type": "code",
      "execution_count": 54,
      "metadata": {
        "colab": {
          "base_uri": "https://localhost:8080/",
          "height": 316
        },
        "id": "e6snl0h7uL1H",
        "outputId": "fd63315c-e950-412d-abe1-8e566ee1ed88",
        "vscode": {
          "languageId": "powershell"
        }
      },
      "outputs": [
        {
          "data": {
            "image/png": "[encoded data removed]",
            "text/plain": [
              "<Figure size 600x300 with 2 Axes>"
            ]
          },
          "metadata": {},
          "output_type": "display_data"
        }
      ],
      "source": [
        "# Education\n",
        "grid=sns.FacetGrid(df,col='Loan_Status')\n",
        "grid.map(sns.countplot,'Education');"
      ]
    },
    {
      "cell_type": "code",
      "execution_count": 55,
      "metadata": {
        "colab": {
          "base_uri": "https://localhost:8080/",
          "height": 303
        },
        "id": "oXzZ_CBhvVff",
        "outputId": "8e7945db-4410-46df-cf3f-b94d4d5bfab3",
        "vscode": {
          "languageId": "powershell"
        }
      },
      "outputs": [
        {
          "data": {
            "image/png": "[encoded data removed]",
            "text/plain": [
              "<Figure size 640x480 with 1 Axes>"
            ]
          },
          "metadata": {},
          "output_type": "display_data"
        }
      ],
      "source": [
        "# revenu du demandeur\n",
        "plt.scatter(df['ApplicantIncome'],df['Loan_Status']);"
      ]
    },
    {
      "cell_type": "code",
      "execution_count": 56,
      "metadata": {
        "colab": {
          "base_uri": "https://localhost:8080/",
          "height": 303
        },
        "id": "HUYCFyTCv6oW",
        "outputId": "f8fcff96-8f5d-4417-ed24-86dad70d3c4b",
        "vscode": {
          "languageId": "powershell"
        }
      },
      "outputs": [
        {
          "data": {
            "image/png": "[encoded data removed]",
            "text/plain": [
              "<Figure size 640x480 with 1 Axes>"
            ]
          },
          "metadata": {},
          "output_type": "display_data"
        }
      ],
      "source": [
        "plt.scatter(df['CoapplicantIncome'],df['Loan_Status']);"
      ]
    },
    {
      "cell_type": "code",
      "execution_count": 57,
      "metadata": {
        "colab": {
          "base_uri": "https://localhost:8080/",
          "height": 164
        },
        "id": "T7UoKR5jwIod",
        "outputId": "cf301c4e-a5b5-4e79-b34c-96e39d16b206",
        "vscode": {
          "languageId": "powershell"
        }
      },
      "outputs": [
        {
          "data": {
            "text/html": [
              "<div>\n",
              "<style scoped>\n",
              "    .dataframe tbody tr th:only-of-type {\n",
              "        vertical-align: middle;\n",
              "    }\n",
              "\n",
              "    .dataframe tbody tr th {\n",
              "        vertical-align: top;\n",
              "    }\n",
              "\n",
              "    .dataframe thead th {\n",
              "        text-align: right;\n",
              "    }\n",
              "</style>\n",
              "<table border=\"1\" class=\"dataframe\">\n",
              "  <thead>\n",
              "    <tr style=\"text-align: right;\">\n",
              "      <th></th>\n",
              "      <th>Gender</th>\n",
              "      <th>Married</th>\n",
              "      <th>Dependents</th>\n",
              "      <th>Education</th>\n",
              "      <th>Self_Employed</th>\n",
              "      <th>Property_Area</th>\n",
              "      <th>ApplicantIncome</th>\n",
              "      <th>CoapplicantIncome</th>\n",
              "      <th>LoanAmount</th>\n",
              "      <th>Loan_Amount_Term</th>\n",
              "      <th>Credit_History</th>\n",
              "    </tr>\n",
              "    <tr>\n",
              "      <th>Loan_Status</th>\n",
              "      <th></th>\n",
              "      <th></th>\n",
              "      <th></th>\n",
              "      <th></th>\n",
              "      <th></th>\n",
              "      <th></th>\n",
              "      <th></th>\n",
              "      <th></th>\n",
              "      <th></th>\n",
              "      <th></th>\n",
              "      <th></th>\n",
              "    </tr>\n",
              "  </thead>\n",
              "  <tbody>\n",
              "    <tr>\n",
              "      <th>0</th>\n",
              "      <td>1.0</td>\n",
              "      <td>1.0</td>\n",
              "      <td>0.0</td>\n",
              "      <td>0.0</td>\n",
              "      <td>0.0</td>\n",
              "      <td>1.0</td>\n",
              "      <td>3833.5</td>\n",
              "      <td>268.0</td>\n",
              "      <td>132.5</td>\n",
              "      <td>360.0</td>\n",
              "      <td>1.0</td>\n",
              "    </tr>\n",
              "    <tr>\n",
              "      <th>1</th>\n",
              "      <td>1.0</td>\n",
              "      <td>1.0</td>\n",
              "      <td>0.0</td>\n",
              "      <td>0.0</td>\n",
              "      <td>0.0</td>\n",
              "      <td>1.0</td>\n",
              "      <td>3812.5</td>\n",
              "      <td>1239.5</td>\n",
              "      <td>127.5</td>\n",
              "      <td>360.0</td>\n",
              "      <td>1.0</td>\n",
              "    </tr>\n",
              "  </tbody>\n",
              "</table>\n",
              "</div>"
            ],
            "text/plain": [
              "             Gender  Married  Dependents  Education  Self_Employed  \\\n",
              "Loan_Status                                                          \n",
              "0               1.0      1.0         0.0        0.0            0.0   \n",
              "1               1.0      1.0         0.0        0.0            0.0   \n",
              "\n",
              "             Property_Area  ApplicantIncome  CoapplicantIncome  LoanAmount  \\\n",
              "Loan_Status                                                                  \n",
              "0                      1.0           3833.5              268.0       132.5   \n",
              "1                      1.0           3812.5             1239.5       127.5   \n",
              "\n",
              "             Loan_Amount_Term  Credit_History  \n",
              "Loan_Status                                    \n",
              "0                       360.0             1.0  \n",
              "1                       360.0             1.0  "
            ]
          },
          "execution_count": 57,
          "metadata": {},
          "output_type": "execute_result"
        }
      ],
      "source": [
        "df.groupby('Loan_Status').median()"
      ]
    },
    {
      "cell_type": "code",
      "execution_count": 58,
      "metadata": {
        "colab": {
          "base_uri": "https://localhost:8080/",
          "height": 107
        },
        "id": "0X5EbpN877Vz",
        "outputId": "ce79765b-0eda-42e7-d512-7076e0925f13",
        "vscode": {
          "languageId": "powershell"
        }
      },
      "outputs": [
        {
          "name": "stdout",
          "output_type": "stream",
          "text": [
            "X_train shape:  (491, 11)\n",
            "X_test shape:  (123, 11)\n",
            "y_train shape:  (491,)\n",
            "y_test shape:  (123,)\n"
          ]
        }
      ],
      "source": [
        "# Diviser la base de données en une base de données test et d'entrainement\n",
        "sss=StratifiedShuffleSplit(n_splits=1,test_size=0.2,random_state=0)\n",
        "for train,test in sss.split(X,y):\n",
        "  X_train,X_test=X.iloc[train],X.iloc[test]\n",
        "  y_train,y_test=y.iloc[train],y.iloc[test]\n",
        "\n",
        "print('X_train shape: ', X_train.shape)\n",
        "print('X_test shape: ', X_test.shape)\n",
        "print('y_train shape: ', y_train.shape)\n",
        "print('y_test shape: ', y_test.shape)"
      ]
    },
    {
      "cell_type": "code",
      "execution_count": 59,
      "metadata": {
        "colab": {
          "base_uri": "https://localhost:8080/",
          "height": 332
        },
        "id": "Aqvi555P-B8c",
        "outputId": "b1fdc1b3-d934-46f3-f942-e61b475fb5f5",
        "vscode": {
          "languageId": "powershell"
        }
      },
      "outputs": [
        {
          "name": "stdout",
          "output_type": "stream",
          "text": [
            "LogisticRegression :\n",
            "la precision du modèle est: 0.8048780487804879\n",
            "------------------------------\n",
            "KNeighborsClassifier :\n",
            "la precision du modèle est: 0.5934959349593496\n",
            "------------------------------\n",
            "DecisionTreeClassifier :\n",
            "la precision du modèle est: 0.8048780487804879\n",
            "------------------------------\n"
          ]
        }
      ],
      "source": [
        "# On va appliquer tois algorithmes Logisitic Regression, KNN, DecisionTree\n",
        "models={\n",
        "    'LogisticRegression':LogisticRegression(random_state=0),\n",
        "    'KNeighborsClassifier':KNeighborsClassifier(),\n",
        "    'DecisionTreeClassifier':DecisionTreeClassifier(max_depth=1,random_state=0)\n",
        "}\n",
        "\n",
        "# fonction de précision\n",
        "def accu(y_true,y_pred,retu=False):\n",
        "  acc=accuracy_score(y_true,y_pred)\n",
        "  if retu:\n",
        "    return acc\n",
        "  else:\n",
        "    print(f'la precision du modèle est: {acc}')\n",
        "\n",
        "# fonction d'application des modèles\n",
        "def train_test_eval(models,X_train,y_train,X_test,y_test):\n",
        "  for name,model in models.items():\n",
        "    print(name,':')\n",
        "    model.fit(X_train,y_train)\n",
        "    accu(y_test,model.predict(X_test))\n",
        "    print('-'*30)\n",
        "\n",
        "train_test_eval(models,X_train,y_train,X_test,y_test)\n"
      ]
    },
    {
      "cell_type": "code",
      "execution_count": 60,
      "metadata": {
        "id": "N8AaYPSeB06q",
        "vscode": {
          "languageId": "powershell"
        }
      },
      "outputs": [],
      "source": [
        "X_2=X[['Credit_History','Married','CoapplicantIncome']]"
      ]
    },
    {
      "cell_type": "code",
      "execution_count": 81,
      "metadata": {
        "colab": {
          "base_uri": "https://localhost:8080/",
          "height": 107
        },
        "id": "K-oHBSwC_mS7",
        "outputId": "31b6f01c-6465-4061-b93c-8863ea29a0ff",
        "vscode": {
          "languageId": "powershell"
        }
      },
      "outputs": [
        {
          "name": "stdout",
          "output_type": "stream",
          "text": [
            "X_train shape:  (491, 3)\n",
            "X_test shape:  (123, 3)\n",
            "y_train shape:  (491,)\n",
            "y_test shape:  (123,)\n"
          ]
        }
      ],
      "source": [
        "# Diviser la base de données en une base de données test et d'entrainement\n",
        "sss=StratifiedShuffleSplit(n_splits=1, test_size=0.2,random_state=0)\n",
        "\n",
        "for train,test in sss.split(X_2,y):\n",
        "  X_train,X_test=X_2.iloc[train],X_2.iloc[test]\n",
        "  y_train,y_test=y.iloc[train],y.iloc[test]\n",
        "\n",
        "print('X_train shape: ', X_train.shape)\n",
        "print('X_test shape: ', X_test.shape)\n",
        "print('y_train shape: ', y_train.shape)\n",
        "print('y_test shape: ', y_test.shape)"
      ]
    },
    {
      "cell_type": "code",
      "execution_count": 82,
      "metadata": {
        "colab": {
          "base_uri": "https://localhost:8080/",
          "height": 194
        },
        "id": "CZv0qSh_CryJ",
        "outputId": "3c2e3f6e-9ba8-4e89-89bb-839f5eda13df",
        "vscode": {
          "languageId": "powershell"
        }
      },
      "outputs": [
        {
          "name": "stdout",
          "output_type": "stream",
          "text": [
            "LogisticRegression :\n",
            "la precision du modèle est: 0.8130081300813008\n",
            "------------------------------\n",
            "KNeighborsClassifier :\n",
            "la precision du modèle est: 0.7154471544715447\n",
            "------------------------------\n",
            "DecisionTreeClassifier :\n",
            "la precision du modèle est: 0.8048780487804879\n",
            "------------------------------\n"
          ]
        }
      ],
      "source": [
        "train_test_eval(models,X_train,y_train,X_test,y_test)"
      ]
    },
    {
      "cell_type": "code",
      "execution_count": 83,
      "metadata": {
        "colab": {
          "base_uri": "https://localhost:8080/",
          "height": 124
        },
        "id": "-4rOkYFeDhHi",
        "outputId": "58ad1719-ba7c-43c1-820b-04ce68726b1b",
        "vscode": {
          "languageId": "powershell"
        }
      },
      "outputs": [
        {
          "data": {
            "text/html": [
              "<style>#sk-container-id-6 {color: black;background-color: white;}#sk-container-id-6 pre{padding: 0;}#sk-container-id-6 div.sk-toggleable {background-color: white;}#sk-container-id-6 label.sk-toggleable__label {cursor: pointer;display: block;width: 100%;margin-bottom: 0;padding: 0.3em;box-sizing: border-box;text-align: center;}#sk-container-id-6 label.sk-toggleable__label-arrow:before {content: \"▸\";float: left;margin-right: 0.25em;color: #696969;}#sk-container-id-6 label.sk-toggleable__label-arrow:hover:before {color: black;}#sk-container-id-6 div.sk-estimator:hover label.sk-toggleable__label-arrow:before {color: black;}#sk-container-id-6 div.sk-toggleable__content {max-height: 0;max-width: 0;overflow: hidden;text-align: left;background-color: #f0f8ff;}#sk-container-id-6 div.sk-toggleable__content pre {margin: 0.2em;color: black;border-radius: 0.25em;background-color: #f0f8ff;}#sk-container-id-6 input.sk-toggleable__control:checked~div.sk-toggleable__content {max-height: 200px;max-width: 100%;overflow: auto;}#sk-container-id-6 input.sk-toggleable__control:checked~label.sk-toggleable__label-arrow:before {content: \"▾\";}#sk-container-id-6 div.sk-estimator input.sk-toggleable__control:checked~label.sk-toggleable__label {background-color: #d4ebff;}#sk-container-id-6 div.sk-label input.sk-toggleable__control:checked~label.sk-toggleable__label {background-color: #d4ebff;}#sk-container-id-6 input.sk-hidden--visually {border: 0;clip: rect(1px 1px 1px 1px);clip: rect(1px, 1px, 1px, 1px);height: 1px;margin: -1px;overflow: hidden;padding: 0;position: absolute;width: 1px;}#sk-container-id-6 div.sk-estimator {font-family: monospace;background-color: #f0f8ff;border: 1px dotted black;border-radius: 0.25em;box-sizing: border-box;margin-bottom: 0.5em;}#sk-container-id-6 div.sk-estimator:hover {background-color: #d4ebff;}#sk-container-id-6 div.sk-parallel-item::after {content: \"\";width: 100%;border-bottom: 1px solid gray;flex-grow: 1;}#sk-container-id-6 div.sk-label:hover label.sk-toggleable__label {background-color: #d4ebff;}#sk-container-id-6 div.sk-serial::before {content: \"\";position: absolute;border-left: 1px solid gray;box-sizing: border-box;top: 0;bottom: 0;left: 50%;z-index: 0;}#sk-container-id-6 div.sk-serial {display: flex;flex-direction: column;align-items: center;background-color: white;padding-right: 0.2em;padding-left: 0.2em;position: relative;}#sk-container-id-6 div.sk-item {position: relative;z-index: 1;}#sk-container-id-6 div.sk-parallel {display: flex;align-items: stretch;justify-content: center;background-color: white;position: relative;}#sk-container-id-6 div.sk-item::before, #sk-container-id-6 div.sk-parallel-item::before {content: \"\";position: absolute;border-left: 1px solid gray;box-sizing: border-box;top: 0;bottom: 0;left: 50%;z-index: -1;}#sk-container-id-6 div.sk-parallel-item {display: flex;flex-direction: column;z-index: 1;position: relative;background-color: white;}#sk-container-id-6 div.sk-parallel-item:first-child::after {align-self: flex-end;width: 50%;}#sk-container-id-6 div.sk-parallel-item:last-child::after {align-self: flex-start;width: 50%;}#sk-container-id-6 div.sk-parallel-item:only-child::after {width: 0;}#sk-container-id-6 div.sk-dashed-wrapped {border: 1px dashed gray;margin: 0 0.4em 0.5em 0.4em;box-sizing: border-box;padding-bottom: 0.4em;background-color: white;}#sk-container-id-6 div.sk-label label {font-family: monospace;font-weight: bold;display: inline-block;line-height: 1.2em;}#sk-container-id-6 div.sk-label-container {text-align: center;}#sk-container-id-6 div.sk-container {/* jupyter's `normalize.less` sets `[hidden] { display: none; }` but bootstrap.min.css set `[hidden] { display: none !important; }` so we also need the `!important` here to be able to override the default hidden behavior on the sphinx rendered scikit-learn.org. See: https://github.com/scikit-learn/scikit-learn/issues/21755 */display: inline-block !important;position: relative;}#sk-container-id-6 div.sk-text-repr-fallback {display: none;}</style><div id=\"sk-container-id-6\" class=\"sk-top-container\"><div class=\"sk-text-repr-fallback\"><pre>LogisticRegression()</pre><b>In a Jupyter environment, please rerun this cell to show the HTML representation or trust the notebook. <br />On GitHub, the HTML representation is unable to render, please try loading this page with nbviewer.org.</b></div><div class=\"sk-container\" hidden><div class=\"sk-item\"><div class=\"sk-estimator sk-toggleable\"><input class=\"sk-toggleable__control sk-hidden--visually\" id=\"sk-estimator-id-6\" type=\"checkbox\" checked><label for=\"sk-estimator-id-6\" class=\"sk-toggleable__label sk-toggleable__label-arrow\">LogisticRegression</label><div class=\"sk-toggleable__content\"><pre>LogisticRegression()</pre></div></div></div></div></div>"
            ],
            "text/plain": [
              "LogisticRegression()"
            ]
          },
          "execution_count": 83,
          "metadata": {},
          "output_type": "execute_result"
        }
      ],
      "source": [
        "# Appliquer la regression logisitique sur notre base de donnée\n",
        "Classifier=LogisticRegression()\n",
        "Classifier.fit(X_2,y)"
      ]
    },
    {
      "cell_type": "code",
      "execution_count": 84,
      "metadata": {
        "id": "SvQbE6bWD4n1",
        "vscode": {
          "languageId": "powershell"
        }
      },
      "outputs": [],
      "source": [
        "# Enregistrer le modèle\n",
        "pickle.dump(Classifier,open('model.pkl','wb'))"
      ]
    }
  ],
  "metadata": {
    "colab": {
      "name": "credit_model.ipynb",
      "provenance": []
    },
    "kernelspec": {
      "display_name": "venv",
      "language": "python",
      "name": "python3"
    },
    "language_info": {
      "codemirror_mode": {
        "name": "ipython",
        "version": 3
      },
      "file_extension": ".py",
      "mimetype": "text/x-python",
      "name": "python",
      "nbconvert_exporter": "python",
      "pygments_lexer": "ipython3",
      "version": "3.9.16"
    }
  },
  "nbformat": 4,
  "nbformat_minor": 0
}
